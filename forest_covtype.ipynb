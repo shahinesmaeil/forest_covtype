{
  "nbformat": 4,
  "nbformat_minor": 5,
  "metadata": {
    "kernelspec": {
      "display_name": "Python 3",
      "language": "python",
      "name": "python3"
    },
    "language_info": {
      "codemirror_mode": {
        "name": "ipython",
        "version": 3
      },
      "file_extension": ".py",
      "mimetype": "text/x-python",
      "name": "python",
      "nbconvert_exporter": "python",
      "pygments_lexer": "ipython3",
      "version": "3.8.5"
    },
    "colab": {
      "name": "forest_covtype.ipynb",
      "provenance": [],
      "collapsed_sections": []
    }
  },
  "cells": [
    {
      "cell_type": "markdown",
      "metadata": {
        "id": "cutting-warren"
      },
      "source": [
        "# Import required libraries"
      ],
      "id": "cutting-warren"
    },
    {
      "cell_type": "code",
      "metadata": {
        "id": "pressing-liabilities"
      },
      "source": [
        "import pandas as pd\n",
        "import numpy as np\n",
        "pd.set_option('display.max_columns', None)\n",
        "import matplotlib.pyplot as plt\n",
        "fig_size = plt.rcParams[\"figure.figsize\"]\n",
        "fig_size[0] = 10\n",
        "fig_size[1] = 8\n",
        "plt.rcParams[\"figure.figsize\"] = fig_size\n",
        "from yellowbrick.classifier import ConfusionMatrix\n",
        "import seaborn as sns\n",
        "\n",
        "sns.set(rc={'figure.figsize':(11.7,8.27)})\n",
        "from matplotlib import colors as mcolors\n",
        "\n",
        "from keras.models import Sequential\n",
        "from keras.layers import Dense\n",
        "colors = list(mcolors.CSS4_COLORS)\n"
      ],
      "id": "pressing-liabilities",
      "execution_count": 27,
      "outputs": []
    },
    {
      "cell_type": "code",
      "metadata": {
        "id": "legendary-watts"
      },
      "source": [
        "from sklearn.metrics import accuracy_score\n",
        "from sklearn.metrics import classification_report\n",
        "from sklearn.metrics import confusion_matrix\n",
        "from sklearn.metrics import plot_roc_curve\n",
        "from sklearn.metrics import multilabel_confusion_matrix\n",
        "from sklearn.metrics import plot_confusion_matrix"
      ],
      "id": "legendary-watts",
      "execution_count": 28,
      "outputs": []
    },
    {
      "cell_type": "code",
      "metadata": {
        "id": "acoustic-bicycle"
      },
      "source": [
        "df = pd.read_csv('/content/covtype.data.gz', compression='gzip',header=None, sep=',', quotechar='\"', error_bad_lines=False)\n"
      ],
      "id": "acoustic-bicycle",
      "execution_count": 29,
      "outputs": []
    },
    {
      "cell_type": "code",
      "metadata": {
        "id": "interstate-geology"
      },
      "source": [
        "df.columns=['Elevation', 'Aspect', 'Slope', 'Horizontal_Distance_To_Hydrology',\n",
        "       'Vertical_Distance_To_Hydrology', 'Horizontal_Distance_To_Roadways',\n",
        "       'Hillshade_9am', 'Hillshade_Noon', 'Hillshade_3pm',\n",
        "       'Horizontal_Distance_To_Fire_Points', 'Wilderness_Area1',\n",
        "       'Wilderness_Area2', 'Wilderness_Area3', 'Wilderness_Area4',\n",
        "       'Soil_Type1', 'Soil_Type2', 'Soil_Type3', 'Soil_Type4', 'Soil_Type5',\n",
        "       'Soil_Type6', 'Soil_Type7', 'Soil_Type8', 'Soil_Type9', 'Soil_Type10',\n",
        "       'Soil_Type11', 'Soil_Type12', 'Soil_Type13', 'Soil_Type14',\n",
        "       'Soil_Type15', 'Soil_Type16', 'Soil_Type17', 'Soil_Type18',\n",
        "       'Soil_Type19', 'Soil_Type20', 'Soil_Type21', 'Soil_Type22',\n",
        "       'Soil_Type23', 'Soil_Type24', 'Soil_Type25', 'Soil_Type26',\n",
        "       'Soil_Type27', 'Soil_Type28', 'Soil_Type29', 'Soil_Type30',\n",
        "       'Soil_Type31', 'Soil_Type32', 'Soil_Type33', 'Soil_Type34',\n",
        "       'Soil_Type35', 'Soil_Type36', 'Soil_Type37', 'Soil_Type38',\n",
        "       'Soil_Type39', 'Soil_Type40', 'Cover_Type']"
      ],
      "id": "interstate-geology",
      "execution_count": 30,
      "outputs": []
    },
    {
      "cell_type": "markdown",
      "metadata": {
        "id": "characteristic-belly"
      },
      "source": [
        "# Exploring data features"
      ],
      "id": "characteristic-belly"
    },
    {
      "cell_type": "code",
      "metadata": {
        "id": "consecutive-partner",
        "colab": {
          "base_uri": "https://localhost:8080/",
          "height": 217
        },
        "outputId": "5b95e561-276a-489b-c26f-c0dddf304852"
      },
      "source": [
        "df.head()"
      ],
      "id": "consecutive-partner",
      "execution_count": 31,
      "outputs": [
        {
          "output_type": "execute_result",
          "data": {
            "text/html": [
              "<div>\n",
              "<style scoped>\n",
              "    .dataframe tbody tr th:only-of-type {\n",
              "        vertical-align: middle;\n",
              "    }\n",
              "\n",
              "    .dataframe tbody tr th {\n",
              "        vertical-align: top;\n",
              "    }\n",
              "\n",
              "    .dataframe thead th {\n",
              "        text-align: right;\n",
              "    }\n",
              "</style>\n",
              "<table border=\"1\" class=\"dataframe\">\n",
              "  <thead>\n",
              "    <tr style=\"text-align: right;\">\n",
              "      <th></th>\n",
              "      <th>Elevation</th>\n",
              "      <th>Aspect</th>\n",
              "      <th>Slope</th>\n",
              "      <th>Horizontal_Distance_To_Hydrology</th>\n",
              "      <th>Vertical_Distance_To_Hydrology</th>\n",
              "      <th>Horizontal_Distance_To_Roadways</th>\n",
              "      <th>Hillshade_9am</th>\n",
              "      <th>Hillshade_Noon</th>\n",
              "      <th>Hillshade_3pm</th>\n",
              "      <th>Horizontal_Distance_To_Fire_Points</th>\n",
              "      <th>Wilderness_Area1</th>\n",
              "      <th>Wilderness_Area2</th>\n",
              "      <th>Wilderness_Area3</th>\n",
              "      <th>Wilderness_Area4</th>\n",
              "      <th>Soil_Type1</th>\n",
              "      <th>Soil_Type2</th>\n",
              "      <th>Soil_Type3</th>\n",
              "      <th>Soil_Type4</th>\n",
              "      <th>Soil_Type5</th>\n",
              "      <th>Soil_Type6</th>\n",
              "      <th>Soil_Type7</th>\n",
              "      <th>Soil_Type8</th>\n",
              "      <th>Soil_Type9</th>\n",
              "      <th>Soil_Type10</th>\n",
              "      <th>Soil_Type11</th>\n",
              "      <th>Soil_Type12</th>\n",
              "      <th>Soil_Type13</th>\n",
              "      <th>Soil_Type14</th>\n",
              "      <th>Soil_Type15</th>\n",
              "      <th>Soil_Type16</th>\n",
              "      <th>Soil_Type17</th>\n",
              "      <th>Soil_Type18</th>\n",
              "      <th>Soil_Type19</th>\n",
              "      <th>Soil_Type20</th>\n",
              "      <th>Soil_Type21</th>\n",
              "      <th>Soil_Type22</th>\n",
              "      <th>Soil_Type23</th>\n",
              "      <th>Soil_Type24</th>\n",
              "      <th>Soil_Type25</th>\n",
              "      <th>Soil_Type26</th>\n",
              "      <th>Soil_Type27</th>\n",
              "      <th>Soil_Type28</th>\n",
              "      <th>Soil_Type29</th>\n",
              "      <th>Soil_Type30</th>\n",
              "      <th>Soil_Type31</th>\n",
              "      <th>Soil_Type32</th>\n",
              "      <th>Soil_Type33</th>\n",
              "      <th>Soil_Type34</th>\n",
              "      <th>Soil_Type35</th>\n",
              "      <th>Soil_Type36</th>\n",
              "      <th>Soil_Type37</th>\n",
              "      <th>Soil_Type38</th>\n",
              "      <th>Soil_Type39</th>\n",
              "      <th>Soil_Type40</th>\n",
              "      <th>Cover_Type</th>\n",
              "    </tr>\n",
              "  </thead>\n",
              "  <tbody>\n",
              "    <tr>\n",
              "      <th>0</th>\n",
              "      <td>2596</td>\n",
              "      <td>51</td>\n",
              "      <td>3</td>\n",
              "      <td>258</td>\n",
              "      <td>0</td>\n",
              "      <td>510</td>\n",
              "      <td>221</td>\n",
              "      <td>232</td>\n",
              "      <td>148</td>\n",
              "      <td>6279</td>\n",
              "      <td>1</td>\n",
              "      <td>0</td>\n",
              "      <td>0</td>\n",
              "      <td>0</td>\n",
              "      <td>0</td>\n",
              "      <td>0</td>\n",
              "      <td>0</td>\n",
              "      <td>0</td>\n",
              "      <td>0</td>\n",
              "      <td>0</td>\n",
              "      <td>0</td>\n",
              "      <td>0</td>\n",
              "      <td>0</td>\n",
              "      <td>0</td>\n",
              "      <td>0</td>\n",
              "      <td>0</td>\n",
              "      <td>0</td>\n",
              "      <td>0</td>\n",
              "      <td>0</td>\n",
              "      <td>0</td>\n",
              "      <td>0</td>\n",
              "      <td>0</td>\n",
              "      <td>0</td>\n",
              "      <td>0</td>\n",
              "      <td>0</td>\n",
              "      <td>0</td>\n",
              "      <td>0</td>\n",
              "      <td>0</td>\n",
              "      <td>0</td>\n",
              "      <td>0</td>\n",
              "      <td>0</td>\n",
              "      <td>0</td>\n",
              "      <td>1</td>\n",
              "      <td>0</td>\n",
              "      <td>0</td>\n",
              "      <td>0</td>\n",
              "      <td>0</td>\n",
              "      <td>0</td>\n",
              "      <td>0</td>\n",
              "      <td>0</td>\n",
              "      <td>0</td>\n",
              "      <td>0</td>\n",
              "      <td>0</td>\n",
              "      <td>0</td>\n",
              "      <td>5</td>\n",
              "    </tr>\n",
              "    <tr>\n",
              "      <th>1</th>\n",
              "      <td>2590</td>\n",
              "      <td>56</td>\n",
              "      <td>2</td>\n",
              "      <td>212</td>\n",
              "      <td>-6</td>\n",
              "      <td>390</td>\n",
              "      <td>220</td>\n",
              "      <td>235</td>\n",
              "      <td>151</td>\n",
              "      <td>6225</td>\n",
              "      <td>1</td>\n",
              "      <td>0</td>\n",
              "      <td>0</td>\n",
              "      <td>0</td>\n",
              "      <td>0</td>\n",
              "      <td>0</td>\n",
              "      <td>0</td>\n",
              "      <td>0</td>\n",
              "      <td>0</td>\n",
              "      <td>0</td>\n",
              "      <td>0</td>\n",
              "      <td>0</td>\n",
              "      <td>0</td>\n",
              "      <td>0</td>\n",
              "      <td>0</td>\n",
              "      <td>0</td>\n",
              "      <td>0</td>\n",
              "      <td>0</td>\n",
              "      <td>0</td>\n",
              "      <td>0</td>\n",
              "      <td>0</td>\n",
              "      <td>0</td>\n",
              "      <td>0</td>\n",
              "      <td>0</td>\n",
              "      <td>0</td>\n",
              "      <td>0</td>\n",
              "      <td>0</td>\n",
              "      <td>0</td>\n",
              "      <td>0</td>\n",
              "      <td>0</td>\n",
              "      <td>0</td>\n",
              "      <td>0</td>\n",
              "      <td>1</td>\n",
              "      <td>0</td>\n",
              "      <td>0</td>\n",
              "      <td>0</td>\n",
              "      <td>0</td>\n",
              "      <td>0</td>\n",
              "      <td>0</td>\n",
              "      <td>0</td>\n",
              "      <td>0</td>\n",
              "      <td>0</td>\n",
              "      <td>0</td>\n",
              "      <td>0</td>\n",
              "      <td>5</td>\n",
              "    </tr>\n",
              "    <tr>\n",
              "      <th>2</th>\n",
              "      <td>2804</td>\n",
              "      <td>139</td>\n",
              "      <td>9</td>\n",
              "      <td>268</td>\n",
              "      <td>65</td>\n",
              "      <td>3180</td>\n",
              "      <td>234</td>\n",
              "      <td>238</td>\n",
              "      <td>135</td>\n",
              "      <td>6121</td>\n",
              "      <td>1</td>\n",
              "      <td>0</td>\n",
              "      <td>0</td>\n",
              "      <td>0</td>\n",
              "      <td>0</td>\n",
              "      <td>0</td>\n",
              "      <td>0</td>\n",
              "      <td>0</td>\n",
              "      <td>0</td>\n",
              "      <td>0</td>\n",
              "      <td>0</td>\n",
              "      <td>0</td>\n",
              "      <td>0</td>\n",
              "      <td>0</td>\n",
              "      <td>0</td>\n",
              "      <td>1</td>\n",
              "      <td>0</td>\n",
              "      <td>0</td>\n",
              "      <td>0</td>\n",
              "      <td>0</td>\n",
              "      <td>0</td>\n",
              "      <td>0</td>\n",
              "      <td>0</td>\n",
              "      <td>0</td>\n",
              "      <td>0</td>\n",
              "      <td>0</td>\n",
              "      <td>0</td>\n",
              "      <td>0</td>\n",
              "      <td>0</td>\n",
              "      <td>0</td>\n",
              "      <td>0</td>\n",
              "      <td>0</td>\n",
              "      <td>0</td>\n",
              "      <td>0</td>\n",
              "      <td>0</td>\n",
              "      <td>0</td>\n",
              "      <td>0</td>\n",
              "      <td>0</td>\n",
              "      <td>0</td>\n",
              "      <td>0</td>\n",
              "      <td>0</td>\n",
              "      <td>0</td>\n",
              "      <td>0</td>\n",
              "      <td>0</td>\n",
              "      <td>2</td>\n",
              "    </tr>\n",
              "    <tr>\n",
              "      <th>3</th>\n",
              "      <td>2785</td>\n",
              "      <td>155</td>\n",
              "      <td>18</td>\n",
              "      <td>242</td>\n",
              "      <td>118</td>\n",
              "      <td>3090</td>\n",
              "      <td>238</td>\n",
              "      <td>238</td>\n",
              "      <td>122</td>\n",
              "      <td>6211</td>\n",
              "      <td>1</td>\n",
              "      <td>0</td>\n",
              "      <td>0</td>\n",
              "      <td>0</td>\n",
              "      <td>0</td>\n",
              "      <td>0</td>\n",
              "      <td>0</td>\n",
              "      <td>0</td>\n",
              "      <td>0</td>\n",
              "      <td>0</td>\n",
              "      <td>0</td>\n",
              "      <td>0</td>\n",
              "      <td>0</td>\n",
              "      <td>0</td>\n",
              "      <td>0</td>\n",
              "      <td>0</td>\n",
              "      <td>0</td>\n",
              "      <td>0</td>\n",
              "      <td>0</td>\n",
              "      <td>0</td>\n",
              "      <td>0</td>\n",
              "      <td>0</td>\n",
              "      <td>0</td>\n",
              "      <td>0</td>\n",
              "      <td>0</td>\n",
              "      <td>0</td>\n",
              "      <td>0</td>\n",
              "      <td>0</td>\n",
              "      <td>0</td>\n",
              "      <td>0</td>\n",
              "      <td>0</td>\n",
              "      <td>0</td>\n",
              "      <td>0</td>\n",
              "      <td>1</td>\n",
              "      <td>0</td>\n",
              "      <td>0</td>\n",
              "      <td>0</td>\n",
              "      <td>0</td>\n",
              "      <td>0</td>\n",
              "      <td>0</td>\n",
              "      <td>0</td>\n",
              "      <td>0</td>\n",
              "      <td>0</td>\n",
              "      <td>0</td>\n",
              "      <td>2</td>\n",
              "    </tr>\n",
              "    <tr>\n",
              "      <th>4</th>\n",
              "      <td>2595</td>\n",
              "      <td>45</td>\n",
              "      <td>2</td>\n",
              "      <td>153</td>\n",
              "      <td>-1</td>\n",
              "      <td>391</td>\n",
              "      <td>220</td>\n",
              "      <td>234</td>\n",
              "      <td>150</td>\n",
              "      <td>6172</td>\n",
              "      <td>1</td>\n",
              "      <td>0</td>\n",
              "      <td>0</td>\n",
              "      <td>0</td>\n",
              "      <td>0</td>\n",
              "      <td>0</td>\n",
              "      <td>0</td>\n",
              "      <td>0</td>\n",
              "      <td>0</td>\n",
              "      <td>0</td>\n",
              "      <td>0</td>\n",
              "      <td>0</td>\n",
              "      <td>0</td>\n",
              "      <td>0</td>\n",
              "      <td>0</td>\n",
              "      <td>0</td>\n",
              "      <td>0</td>\n",
              "      <td>0</td>\n",
              "      <td>0</td>\n",
              "      <td>0</td>\n",
              "      <td>0</td>\n",
              "      <td>0</td>\n",
              "      <td>0</td>\n",
              "      <td>0</td>\n",
              "      <td>0</td>\n",
              "      <td>0</td>\n",
              "      <td>0</td>\n",
              "      <td>0</td>\n",
              "      <td>0</td>\n",
              "      <td>0</td>\n",
              "      <td>0</td>\n",
              "      <td>0</td>\n",
              "      <td>1</td>\n",
              "      <td>0</td>\n",
              "      <td>0</td>\n",
              "      <td>0</td>\n",
              "      <td>0</td>\n",
              "      <td>0</td>\n",
              "      <td>0</td>\n",
              "      <td>0</td>\n",
              "      <td>0</td>\n",
              "      <td>0</td>\n",
              "      <td>0</td>\n",
              "      <td>0</td>\n",
              "      <td>5</td>\n",
              "    </tr>\n",
              "  </tbody>\n",
              "</table>\n",
              "</div>"
            ],
            "text/plain": [
              "   Elevation  Aspect  Slope  Horizontal_Distance_To_Hydrology  \\\n",
              "0       2596      51      3                               258   \n",
              "1       2590      56      2                               212   \n",
              "2       2804     139      9                               268   \n",
              "3       2785     155     18                               242   \n",
              "4       2595      45      2                               153   \n",
              "\n",
              "   Vertical_Distance_To_Hydrology  Horizontal_Distance_To_Roadways  \\\n",
              "0                               0                              510   \n",
              "1                              -6                              390   \n",
              "2                              65                             3180   \n",
              "3                             118                             3090   \n",
              "4                              -1                              391   \n",
              "\n",
              "   Hillshade_9am  Hillshade_Noon  Hillshade_3pm  \\\n",
              "0            221             232            148   \n",
              "1            220             235            151   \n",
              "2            234             238            135   \n",
              "3            238             238            122   \n",
              "4            220             234            150   \n",
              "\n",
              "   Horizontal_Distance_To_Fire_Points  Wilderness_Area1  Wilderness_Area2  \\\n",
              "0                                6279                 1                 0   \n",
              "1                                6225                 1                 0   \n",
              "2                                6121                 1                 0   \n",
              "3                                6211                 1                 0   \n",
              "4                                6172                 1                 0   \n",
              "\n",
              "   Wilderness_Area3  Wilderness_Area4  Soil_Type1  Soil_Type2  Soil_Type3  \\\n",
              "0                 0                 0           0           0           0   \n",
              "1                 0                 0           0           0           0   \n",
              "2                 0                 0           0           0           0   \n",
              "3                 0                 0           0           0           0   \n",
              "4                 0                 0           0           0           0   \n",
              "\n",
              "   Soil_Type4  Soil_Type5  Soil_Type6  Soil_Type7  Soil_Type8  Soil_Type9  \\\n",
              "0           0           0           0           0           0           0   \n",
              "1           0           0           0           0           0           0   \n",
              "2           0           0           0           0           0           0   \n",
              "3           0           0           0           0           0           0   \n",
              "4           0           0           0           0           0           0   \n",
              "\n",
              "   Soil_Type10  Soil_Type11  Soil_Type12  Soil_Type13  Soil_Type14  \\\n",
              "0            0            0            0            0            0   \n",
              "1            0            0            0            0            0   \n",
              "2            0            0            1            0            0   \n",
              "3            0            0            0            0            0   \n",
              "4            0            0            0            0            0   \n",
              "\n",
              "   Soil_Type15  Soil_Type16  Soil_Type17  Soil_Type18  Soil_Type19  \\\n",
              "0            0            0            0            0            0   \n",
              "1            0            0            0            0            0   \n",
              "2            0            0            0            0            0   \n",
              "3            0            0            0            0            0   \n",
              "4            0            0            0            0            0   \n",
              "\n",
              "   Soil_Type20  Soil_Type21  Soil_Type22  Soil_Type23  Soil_Type24  \\\n",
              "0            0            0            0            0            0   \n",
              "1            0            0            0            0            0   \n",
              "2            0            0            0            0            0   \n",
              "3            0            0            0            0            0   \n",
              "4            0            0            0            0            0   \n",
              "\n",
              "   Soil_Type25  Soil_Type26  Soil_Type27  Soil_Type28  Soil_Type29  \\\n",
              "0            0            0            0            0            1   \n",
              "1            0            0            0            0            1   \n",
              "2            0            0            0            0            0   \n",
              "3            0            0            0            0            0   \n",
              "4            0            0            0            0            1   \n",
              "\n",
              "   Soil_Type30  Soil_Type31  Soil_Type32  Soil_Type33  Soil_Type34  \\\n",
              "0            0            0            0            0            0   \n",
              "1            0            0            0            0            0   \n",
              "2            0            0            0            0            0   \n",
              "3            1            0            0            0            0   \n",
              "4            0            0            0            0            0   \n",
              "\n",
              "   Soil_Type35  Soil_Type36  Soil_Type37  Soil_Type38  Soil_Type39  \\\n",
              "0            0            0            0            0            0   \n",
              "1            0            0            0            0            0   \n",
              "2            0            0            0            0            0   \n",
              "3            0            0            0            0            0   \n",
              "4            0            0            0            0            0   \n",
              "\n",
              "   Soil_Type40  Cover_Type  \n",
              "0            0           5  \n",
              "1            0           5  \n",
              "2            0           2  \n",
              "3            0           2  \n",
              "4            0           5  "
            ]
          },
          "metadata": {
            "tags": []
          },
          "execution_count": 31
        }
      ]
    },
    {
      "cell_type": "code",
      "metadata": {
        "id": "recreational-stability",
        "colab": {
          "base_uri": "https://localhost:8080/"
        },
        "outputId": "5327c2d5-9651-4a4f-b39c-8c43891e766f"
      },
      "source": [
        "#Checking for missing values\n",
        "df.isna().sum()"
      ],
      "id": "recreational-stability",
      "execution_count": 32,
      "outputs": [
        {
          "output_type": "execute_result",
          "data": {
            "text/plain": [
              "Elevation                             0\n",
              "Aspect                                0\n",
              "Slope                                 0\n",
              "Horizontal_Distance_To_Hydrology      0\n",
              "Vertical_Distance_To_Hydrology        0\n",
              "Horizontal_Distance_To_Roadways       0\n",
              "Hillshade_9am                         0\n",
              "Hillshade_Noon                        0\n",
              "Hillshade_3pm                         0\n",
              "Horizontal_Distance_To_Fire_Points    0\n",
              "Wilderness_Area1                      0\n",
              "Wilderness_Area2                      0\n",
              "Wilderness_Area3                      0\n",
              "Wilderness_Area4                      0\n",
              "Soil_Type1                            0\n",
              "Soil_Type2                            0\n",
              "Soil_Type3                            0\n",
              "Soil_Type4                            0\n",
              "Soil_Type5                            0\n",
              "Soil_Type6                            0\n",
              "Soil_Type7                            0\n",
              "Soil_Type8                            0\n",
              "Soil_Type9                            0\n",
              "Soil_Type10                           0\n",
              "Soil_Type11                           0\n",
              "Soil_Type12                           0\n",
              "Soil_Type13                           0\n",
              "Soil_Type14                           0\n",
              "Soil_Type15                           0\n",
              "Soil_Type16                           0\n",
              "Soil_Type17                           0\n",
              "Soil_Type18                           0\n",
              "Soil_Type19                           0\n",
              "Soil_Type20                           0\n",
              "Soil_Type21                           0\n",
              "Soil_Type22                           0\n",
              "Soil_Type23                           0\n",
              "Soil_Type24                           0\n",
              "Soil_Type25                           0\n",
              "Soil_Type26                           0\n",
              "Soil_Type27                           0\n",
              "Soil_Type28                           0\n",
              "Soil_Type29                           0\n",
              "Soil_Type30                           0\n",
              "Soil_Type31                           0\n",
              "Soil_Type32                           0\n",
              "Soil_Type33                           0\n",
              "Soil_Type34                           0\n",
              "Soil_Type35                           0\n",
              "Soil_Type36                           0\n",
              "Soil_Type37                           0\n",
              "Soil_Type38                           0\n",
              "Soil_Type39                           0\n",
              "Soil_Type40                           0\n",
              "Cover_Type                            0\n",
              "dtype: int64"
            ]
          },
          "metadata": {
            "tags": []
          },
          "execution_count": 32
        }
      ]
    },
    {
      "cell_type": "markdown",
      "metadata": {
        "id": "false-kuwait"
      },
      "source": [
        "There are no missing values, next we check the info to get the idea about the datatypes and other related information, after that we check the basic stats of the data to get better understanding"
      ],
      "id": "false-kuwait"
    },
    {
      "cell_type": "code",
      "metadata": {
        "id": "preliminary-breakfast",
        "colab": {
          "base_uri": "https://localhost:8080/"
        },
        "outputId": "7c8e0101-7542-4c7f-cbce-46340e844cc5"
      },
      "source": [
        "df.info()"
      ],
      "id": "preliminary-breakfast",
      "execution_count": 33,
      "outputs": [
        {
          "output_type": "stream",
          "text": [
            "<class 'pandas.core.frame.DataFrame'>\n",
            "RangeIndex: 581012 entries, 0 to 581011\n",
            "Data columns (total 55 columns):\n",
            " #   Column                              Non-Null Count   Dtype\n",
            "---  ------                              --------------   -----\n",
            " 0   Elevation                           581012 non-null  int64\n",
            " 1   Aspect                              581012 non-null  int64\n",
            " 2   Slope                               581012 non-null  int64\n",
            " 3   Horizontal_Distance_To_Hydrology    581012 non-null  int64\n",
            " 4   Vertical_Distance_To_Hydrology      581012 non-null  int64\n",
            " 5   Horizontal_Distance_To_Roadways     581012 non-null  int64\n",
            " 6   Hillshade_9am                       581012 non-null  int64\n",
            " 7   Hillshade_Noon                      581012 non-null  int64\n",
            " 8   Hillshade_3pm                       581012 non-null  int64\n",
            " 9   Horizontal_Distance_To_Fire_Points  581012 non-null  int64\n",
            " 10  Wilderness_Area1                    581012 non-null  int64\n",
            " 11  Wilderness_Area2                    581012 non-null  int64\n",
            " 12  Wilderness_Area3                    581012 non-null  int64\n",
            " 13  Wilderness_Area4                    581012 non-null  int64\n",
            " 14  Soil_Type1                          581012 non-null  int64\n",
            " 15  Soil_Type2                          581012 non-null  int64\n",
            " 16  Soil_Type3                          581012 non-null  int64\n",
            " 17  Soil_Type4                          581012 non-null  int64\n",
            " 18  Soil_Type5                          581012 non-null  int64\n",
            " 19  Soil_Type6                          581012 non-null  int64\n",
            " 20  Soil_Type7                          581012 non-null  int64\n",
            " 21  Soil_Type8                          581012 non-null  int64\n",
            " 22  Soil_Type9                          581012 non-null  int64\n",
            " 23  Soil_Type10                         581012 non-null  int64\n",
            " 24  Soil_Type11                         581012 non-null  int64\n",
            " 25  Soil_Type12                         581012 non-null  int64\n",
            " 26  Soil_Type13                         581012 non-null  int64\n",
            " 27  Soil_Type14                         581012 non-null  int64\n",
            " 28  Soil_Type15                         581012 non-null  int64\n",
            " 29  Soil_Type16                         581012 non-null  int64\n",
            " 30  Soil_Type17                         581012 non-null  int64\n",
            " 31  Soil_Type18                         581012 non-null  int64\n",
            " 32  Soil_Type19                         581012 non-null  int64\n",
            " 33  Soil_Type20                         581012 non-null  int64\n",
            " 34  Soil_Type21                         581012 non-null  int64\n",
            " 35  Soil_Type22                         581012 non-null  int64\n",
            " 36  Soil_Type23                         581012 non-null  int64\n",
            " 37  Soil_Type24                         581012 non-null  int64\n",
            " 38  Soil_Type25                         581012 non-null  int64\n",
            " 39  Soil_Type26                         581012 non-null  int64\n",
            " 40  Soil_Type27                         581012 non-null  int64\n",
            " 41  Soil_Type28                         581012 non-null  int64\n",
            " 42  Soil_Type29                         581012 non-null  int64\n",
            " 43  Soil_Type30                         581012 non-null  int64\n",
            " 44  Soil_Type31                         581012 non-null  int64\n",
            " 45  Soil_Type32                         581012 non-null  int64\n",
            " 46  Soil_Type33                         581012 non-null  int64\n",
            " 47  Soil_Type34                         581012 non-null  int64\n",
            " 48  Soil_Type35                         581012 non-null  int64\n",
            " 49  Soil_Type36                         581012 non-null  int64\n",
            " 50  Soil_Type37                         581012 non-null  int64\n",
            " 51  Soil_Type38                         581012 non-null  int64\n",
            " 52  Soil_Type39                         581012 non-null  int64\n",
            " 53  Soil_Type40                         581012 non-null  int64\n",
            " 54  Cover_Type                          581012 non-null  int64\n",
            "dtypes: int64(55)\n",
            "memory usage: 243.8 MB\n"
          ],
          "name": "stdout"
        }
      ]
    },
    {
      "cell_type": "code",
      "metadata": {
        "id": "architectural-vanilla",
        "colab": {
          "base_uri": "https://localhost:8080/"
        },
        "outputId": "92a9d7a5-2162-43f4-ce88-c4d07a5e7d77"
      },
      "source": [
        "df.Cover_Type.value_counts()\n",
        "# We see that the most of the classes belong to the 2nd class \n"
      ],
      "id": "architectural-vanilla",
      "execution_count": 34,
      "outputs": [
        {
          "output_type": "execute_result",
          "data": {
            "text/plain": [
              "2    283301\n",
              "1    211840\n",
              "3     35754\n",
              "7     20510\n",
              "6     17367\n",
              "5      9493\n",
              "4      2747\n",
              "Name: Cover_Type, dtype: int64"
            ]
          },
          "metadata": {
            "tags": []
          },
          "execution_count": 34
        }
      ]
    },
    {
      "cell_type": "code",
      "metadata": {
        "id": "headed-mandate",
        "colab": {
          "base_uri": "https://localhost:8080/",
          "height": 307
        },
        "outputId": "19f65dfc-8cd3-43ea-946e-e9b26dd885fa"
      },
      "source": [
        "df.describe()"
      ],
      "id": "headed-mandate",
      "execution_count": 35,
      "outputs": [
        {
          "output_type": "execute_result",
          "data": {
            "text/html": [
              "<div>\n",
              "<style scoped>\n",
              "    .dataframe tbody tr th:only-of-type {\n",
              "        vertical-align: middle;\n",
              "    }\n",
              "\n",
              "    .dataframe tbody tr th {\n",
              "        vertical-align: top;\n",
              "    }\n",
              "\n",
              "    .dataframe thead th {\n",
              "        text-align: right;\n",
              "    }\n",
              "</style>\n",
              "<table border=\"1\" class=\"dataframe\">\n",
              "  <thead>\n",
              "    <tr style=\"text-align: right;\">\n",
              "      <th></th>\n",
              "      <th>Elevation</th>\n",
              "      <th>Aspect</th>\n",
              "      <th>Slope</th>\n",
              "      <th>Horizontal_Distance_To_Hydrology</th>\n",
              "      <th>Vertical_Distance_To_Hydrology</th>\n",
              "      <th>Horizontal_Distance_To_Roadways</th>\n",
              "      <th>Hillshade_9am</th>\n",
              "      <th>Hillshade_Noon</th>\n",
              "      <th>Hillshade_3pm</th>\n",
              "      <th>Horizontal_Distance_To_Fire_Points</th>\n",
              "      <th>Wilderness_Area1</th>\n",
              "      <th>Wilderness_Area2</th>\n",
              "      <th>Wilderness_Area3</th>\n",
              "      <th>Wilderness_Area4</th>\n",
              "      <th>Soil_Type1</th>\n",
              "      <th>Soil_Type2</th>\n",
              "      <th>Soil_Type3</th>\n",
              "      <th>Soil_Type4</th>\n",
              "      <th>Soil_Type5</th>\n",
              "      <th>Soil_Type6</th>\n",
              "      <th>Soil_Type7</th>\n",
              "      <th>Soil_Type8</th>\n",
              "      <th>Soil_Type9</th>\n",
              "      <th>Soil_Type10</th>\n",
              "      <th>Soil_Type11</th>\n",
              "      <th>Soil_Type12</th>\n",
              "      <th>Soil_Type13</th>\n",
              "      <th>Soil_Type14</th>\n",
              "      <th>Soil_Type15</th>\n",
              "      <th>Soil_Type16</th>\n",
              "      <th>Soil_Type17</th>\n",
              "      <th>Soil_Type18</th>\n",
              "      <th>Soil_Type19</th>\n",
              "      <th>Soil_Type20</th>\n",
              "      <th>Soil_Type21</th>\n",
              "      <th>Soil_Type22</th>\n",
              "      <th>Soil_Type23</th>\n",
              "      <th>Soil_Type24</th>\n",
              "      <th>Soil_Type25</th>\n",
              "      <th>Soil_Type26</th>\n",
              "      <th>Soil_Type27</th>\n",
              "      <th>Soil_Type28</th>\n",
              "      <th>Soil_Type29</th>\n",
              "      <th>Soil_Type30</th>\n",
              "      <th>Soil_Type31</th>\n",
              "      <th>Soil_Type32</th>\n",
              "      <th>Soil_Type33</th>\n",
              "      <th>Soil_Type34</th>\n",
              "      <th>Soil_Type35</th>\n",
              "      <th>Soil_Type36</th>\n",
              "      <th>Soil_Type37</th>\n",
              "      <th>Soil_Type38</th>\n",
              "      <th>Soil_Type39</th>\n",
              "      <th>Soil_Type40</th>\n",
              "      <th>Cover_Type</th>\n",
              "    </tr>\n",
              "  </thead>\n",
              "  <tbody>\n",
              "    <tr>\n",
              "      <th>count</th>\n",
              "      <td>581012.000000</td>\n",
              "      <td>581012.000000</td>\n",
              "      <td>581012.000000</td>\n",
              "      <td>581012.000000</td>\n",
              "      <td>581012.000000</td>\n",
              "      <td>581012.000000</td>\n",
              "      <td>581012.000000</td>\n",
              "      <td>581012.000000</td>\n",
              "      <td>581012.000000</td>\n",
              "      <td>581012.000000</td>\n",
              "      <td>581012.000000</td>\n",
              "      <td>581012.000000</td>\n",
              "      <td>581012.000000</td>\n",
              "      <td>581012.000000</td>\n",
              "      <td>581012.000000</td>\n",
              "      <td>581012.000000</td>\n",
              "      <td>581012.000000</td>\n",
              "      <td>581012.000000</td>\n",
              "      <td>581012.000000</td>\n",
              "      <td>581012.000000</td>\n",
              "      <td>581012.000000</td>\n",
              "      <td>581012.000000</td>\n",
              "      <td>581012.000000</td>\n",
              "      <td>581012.000000</td>\n",
              "      <td>581012.000000</td>\n",
              "      <td>581012.000000</td>\n",
              "      <td>581012.000000</td>\n",
              "      <td>581012.000000</td>\n",
              "      <td>581012.000000</td>\n",
              "      <td>581012.000000</td>\n",
              "      <td>581012.000000</td>\n",
              "      <td>581012.000000</td>\n",
              "      <td>581012.000000</td>\n",
              "      <td>581012.000000</td>\n",
              "      <td>581012.000000</td>\n",
              "      <td>581012.000000</td>\n",
              "      <td>581012.000000</td>\n",
              "      <td>581012.000000</td>\n",
              "      <td>581012.000000</td>\n",
              "      <td>581012.000000</td>\n",
              "      <td>581012.000000</td>\n",
              "      <td>581012.000000</td>\n",
              "      <td>581012.000000</td>\n",
              "      <td>581012.000000</td>\n",
              "      <td>581012.000000</td>\n",
              "      <td>581012.000000</td>\n",
              "      <td>581012.000000</td>\n",
              "      <td>581012.000000</td>\n",
              "      <td>581012.000000</td>\n",
              "      <td>581012.000000</td>\n",
              "      <td>581012.000000</td>\n",
              "      <td>581012.000000</td>\n",
              "      <td>581012.000000</td>\n",
              "      <td>581012.000000</td>\n",
              "      <td>581012.000000</td>\n",
              "    </tr>\n",
              "    <tr>\n",
              "      <th>mean</th>\n",
              "      <td>2959.365301</td>\n",
              "      <td>155.656807</td>\n",
              "      <td>14.103704</td>\n",
              "      <td>269.428217</td>\n",
              "      <td>46.418855</td>\n",
              "      <td>2350.146611</td>\n",
              "      <td>212.146049</td>\n",
              "      <td>223.318716</td>\n",
              "      <td>142.528263</td>\n",
              "      <td>1980.291226</td>\n",
              "      <td>0.448865</td>\n",
              "      <td>0.051434</td>\n",
              "      <td>0.436074</td>\n",
              "      <td>0.063627</td>\n",
              "      <td>0.005217</td>\n",
              "      <td>0.012952</td>\n",
              "      <td>0.008301</td>\n",
              "      <td>0.021335</td>\n",
              "      <td>0.002749</td>\n",
              "      <td>0.011316</td>\n",
              "      <td>0.000181</td>\n",
              "      <td>0.000308</td>\n",
              "      <td>0.001974</td>\n",
              "      <td>0.056168</td>\n",
              "      <td>0.021359</td>\n",
              "      <td>0.051584</td>\n",
              "      <td>0.030001</td>\n",
              "      <td>0.001031</td>\n",
              "      <td>0.000005</td>\n",
              "      <td>0.004897</td>\n",
              "      <td>0.005890</td>\n",
              "      <td>0.003268</td>\n",
              "      <td>0.006921</td>\n",
              "      <td>0.015936</td>\n",
              "      <td>0.001442</td>\n",
              "      <td>0.057439</td>\n",
              "      <td>0.099399</td>\n",
              "      <td>0.036622</td>\n",
              "      <td>0.000816</td>\n",
              "      <td>0.004456</td>\n",
              "      <td>0.001869</td>\n",
              "      <td>0.001628</td>\n",
              "      <td>0.198356</td>\n",
              "      <td>0.051927</td>\n",
              "      <td>0.044175</td>\n",
              "      <td>0.090392</td>\n",
              "      <td>0.077716</td>\n",
              "      <td>0.002773</td>\n",
              "      <td>0.003255</td>\n",
              "      <td>0.000205</td>\n",
              "      <td>0.000513</td>\n",
              "      <td>0.026803</td>\n",
              "      <td>0.023762</td>\n",
              "      <td>0.015060</td>\n",
              "      <td>2.051471</td>\n",
              "    </tr>\n",
              "    <tr>\n",
              "      <th>std</th>\n",
              "      <td>279.984734</td>\n",
              "      <td>111.913721</td>\n",
              "      <td>7.488242</td>\n",
              "      <td>212.549356</td>\n",
              "      <td>58.295232</td>\n",
              "      <td>1559.254870</td>\n",
              "      <td>26.769889</td>\n",
              "      <td>19.768697</td>\n",
              "      <td>38.274529</td>\n",
              "      <td>1324.195210</td>\n",
              "      <td>0.497379</td>\n",
              "      <td>0.220882</td>\n",
              "      <td>0.495897</td>\n",
              "      <td>0.244087</td>\n",
              "      <td>0.072039</td>\n",
              "      <td>0.113066</td>\n",
              "      <td>0.090731</td>\n",
              "      <td>0.144499</td>\n",
              "      <td>0.052356</td>\n",
              "      <td>0.105775</td>\n",
              "      <td>0.013442</td>\n",
              "      <td>0.017550</td>\n",
              "      <td>0.044387</td>\n",
              "      <td>0.230245</td>\n",
              "      <td>0.144579</td>\n",
              "      <td>0.221186</td>\n",
              "      <td>0.170590</td>\n",
              "      <td>0.032092</td>\n",
              "      <td>0.002272</td>\n",
              "      <td>0.069804</td>\n",
              "      <td>0.076518</td>\n",
              "      <td>0.057077</td>\n",
              "      <td>0.082902</td>\n",
              "      <td>0.125228</td>\n",
              "      <td>0.037950</td>\n",
              "      <td>0.232681</td>\n",
              "      <td>0.299197</td>\n",
              "      <td>0.187833</td>\n",
              "      <td>0.028551</td>\n",
              "      <td>0.066605</td>\n",
              "      <td>0.043193</td>\n",
              "      <td>0.040318</td>\n",
              "      <td>0.398762</td>\n",
              "      <td>0.221879</td>\n",
              "      <td>0.205483</td>\n",
              "      <td>0.286743</td>\n",
              "      <td>0.267725</td>\n",
              "      <td>0.052584</td>\n",
              "      <td>0.056957</td>\n",
              "      <td>0.014310</td>\n",
              "      <td>0.022641</td>\n",
              "      <td>0.161508</td>\n",
              "      <td>0.152307</td>\n",
              "      <td>0.121791</td>\n",
              "      <td>1.396504</td>\n",
              "    </tr>\n",
              "    <tr>\n",
              "      <th>min</th>\n",
              "      <td>1859.000000</td>\n",
              "      <td>0.000000</td>\n",
              "      <td>0.000000</td>\n",
              "      <td>0.000000</td>\n",
              "      <td>-173.000000</td>\n",
              "      <td>0.000000</td>\n",
              "      <td>0.000000</td>\n",
              "      <td>0.000000</td>\n",
              "      <td>0.000000</td>\n",
              "      <td>0.000000</td>\n",
              "      <td>0.000000</td>\n",
              "      <td>0.000000</td>\n",
              "      <td>0.000000</td>\n",
              "      <td>0.000000</td>\n",
              "      <td>0.000000</td>\n",
              "      <td>0.000000</td>\n",
              "      <td>0.000000</td>\n",
              "      <td>0.000000</td>\n",
              "      <td>0.000000</td>\n",
              "      <td>0.000000</td>\n",
              "      <td>0.000000</td>\n",
              "      <td>0.000000</td>\n",
              "      <td>0.000000</td>\n",
              "      <td>0.000000</td>\n",
              "      <td>0.000000</td>\n",
              "      <td>0.000000</td>\n",
              "      <td>0.000000</td>\n",
              "      <td>0.000000</td>\n",
              "      <td>0.000000</td>\n",
              "      <td>0.000000</td>\n",
              "      <td>0.000000</td>\n",
              "      <td>0.000000</td>\n",
              "      <td>0.000000</td>\n",
              "      <td>0.000000</td>\n",
              "      <td>0.000000</td>\n",
              "      <td>0.000000</td>\n",
              "      <td>0.000000</td>\n",
              "      <td>0.000000</td>\n",
              "      <td>0.000000</td>\n",
              "      <td>0.000000</td>\n",
              "      <td>0.000000</td>\n",
              "      <td>0.000000</td>\n",
              "      <td>0.000000</td>\n",
              "      <td>0.000000</td>\n",
              "      <td>0.000000</td>\n",
              "      <td>0.000000</td>\n",
              "      <td>0.000000</td>\n",
              "      <td>0.000000</td>\n",
              "      <td>0.000000</td>\n",
              "      <td>0.000000</td>\n",
              "      <td>0.000000</td>\n",
              "      <td>0.000000</td>\n",
              "      <td>0.000000</td>\n",
              "      <td>0.000000</td>\n",
              "      <td>1.000000</td>\n",
              "    </tr>\n",
              "    <tr>\n",
              "      <th>25%</th>\n",
              "      <td>2809.000000</td>\n",
              "      <td>58.000000</td>\n",
              "      <td>9.000000</td>\n",
              "      <td>108.000000</td>\n",
              "      <td>7.000000</td>\n",
              "      <td>1106.000000</td>\n",
              "      <td>198.000000</td>\n",
              "      <td>213.000000</td>\n",
              "      <td>119.000000</td>\n",
              "      <td>1024.000000</td>\n",
              "      <td>0.000000</td>\n",
              "      <td>0.000000</td>\n",
              "      <td>0.000000</td>\n",
              "      <td>0.000000</td>\n",
              "      <td>0.000000</td>\n",
              "      <td>0.000000</td>\n",
              "      <td>0.000000</td>\n",
              "      <td>0.000000</td>\n",
              "      <td>0.000000</td>\n",
              "      <td>0.000000</td>\n",
              "      <td>0.000000</td>\n",
              "      <td>0.000000</td>\n",
              "      <td>0.000000</td>\n",
              "      <td>0.000000</td>\n",
              "      <td>0.000000</td>\n",
              "      <td>0.000000</td>\n",
              "      <td>0.000000</td>\n",
              "      <td>0.000000</td>\n",
              "      <td>0.000000</td>\n",
              "      <td>0.000000</td>\n",
              "      <td>0.000000</td>\n",
              "      <td>0.000000</td>\n",
              "      <td>0.000000</td>\n",
              "      <td>0.000000</td>\n",
              "      <td>0.000000</td>\n",
              "      <td>0.000000</td>\n",
              "      <td>0.000000</td>\n",
              "      <td>0.000000</td>\n",
              "      <td>0.000000</td>\n",
              "      <td>0.000000</td>\n",
              "      <td>0.000000</td>\n",
              "      <td>0.000000</td>\n",
              "      <td>0.000000</td>\n",
              "      <td>0.000000</td>\n",
              "      <td>0.000000</td>\n",
              "      <td>0.000000</td>\n",
              "      <td>0.000000</td>\n",
              "      <td>0.000000</td>\n",
              "      <td>0.000000</td>\n",
              "      <td>0.000000</td>\n",
              "      <td>0.000000</td>\n",
              "      <td>0.000000</td>\n",
              "      <td>0.000000</td>\n",
              "      <td>0.000000</td>\n",
              "      <td>1.000000</td>\n",
              "    </tr>\n",
              "    <tr>\n",
              "      <th>50%</th>\n",
              "      <td>2996.000000</td>\n",
              "      <td>127.000000</td>\n",
              "      <td>13.000000</td>\n",
              "      <td>218.000000</td>\n",
              "      <td>30.000000</td>\n",
              "      <td>1997.000000</td>\n",
              "      <td>218.000000</td>\n",
              "      <td>226.000000</td>\n",
              "      <td>143.000000</td>\n",
              "      <td>1710.000000</td>\n",
              "      <td>0.000000</td>\n",
              "      <td>0.000000</td>\n",
              "      <td>0.000000</td>\n",
              "      <td>0.000000</td>\n",
              "      <td>0.000000</td>\n",
              "      <td>0.000000</td>\n",
              "      <td>0.000000</td>\n",
              "      <td>0.000000</td>\n",
              "      <td>0.000000</td>\n",
              "      <td>0.000000</td>\n",
              "      <td>0.000000</td>\n",
              "      <td>0.000000</td>\n",
              "      <td>0.000000</td>\n",
              "      <td>0.000000</td>\n",
              "      <td>0.000000</td>\n",
              "      <td>0.000000</td>\n",
              "      <td>0.000000</td>\n",
              "      <td>0.000000</td>\n",
              "      <td>0.000000</td>\n",
              "      <td>0.000000</td>\n",
              "      <td>0.000000</td>\n",
              "      <td>0.000000</td>\n",
              "      <td>0.000000</td>\n",
              "      <td>0.000000</td>\n",
              "      <td>0.000000</td>\n",
              "      <td>0.000000</td>\n",
              "      <td>0.000000</td>\n",
              "      <td>0.000000</td>\n",
              "      <td>0.000000</td>\n",
              "      <td>0.000000</td>\n",
              "      <td>0.000000</td>\n",
              "      <td>0.000000</td>\n",
              "      <td>0.000000</td>\n",
              "      <td>0.000000</td>\n",
              "      <td>0.000000</td>\n",
              "      <td>0.000000</td>\n",
              "      <td>0.000000</td>\n",
              "      <td>0.000000</td>\n",
              "      <td>0.000000</td>\n",
              "      <td>0.000000</td>\n",
              "      <td>0.000000</td>\n",
              "      <td>0.000000</td>\n",
              "      <td>0.000000</td>\n",
              "      <td>0.000000</td>\n",
              "      <td>2.000000</td>\n",
              "    </tr>\n",
              "    <tr>\n",
              "      <th>75%</th>\n",
              "      <td>3163.000000</td>\n",
              "      <td>260.000000</td>\n",
              "      <td>18.000000</td>\n",
              "      <td>384.000000</td>\n",
              "      <td>69.000000</td>\n",
              "      <td>3328.000000</td>\n",
              "      <td>231.000000</td>\n",
              "      <td>237.000000</td>\n",
              "      <td>168.000000</td>\n",
              "      <td>2550.000000</td>\n",
              "      <td>1.000000</td>\n",
              "      <td>0.000000</td>\n",
              "      <td>1.000000</td>\n",
              "      <td>0.000000</td>\n",
              "      <td>0.000000</td>\n",
              "      <td>0.000000</td>\n",
              "      <td>0.000000</td>\n",
              "      <td>0.000000</td>\n",
              "      <td>0.000000</td>\n",
              "      <td>0.000000</td>\n",
              "      <td>0.000000</td>\n",
              "      <td>0.000000</td>\n",
              "      <td>0.000000</td>\n",
              "      <td>0.000000</td>\n",
              "      <td>0.000000</td>\n",
              "      <td>0.000000</td>\n",
              "      <td>0.000000</td>\n",
              "      <td>0.000000</td>\n",
              "      <td>0.000000</td>\n",
              "      <td>0.000000</td>\n",
              "      <td>0.000000</td>\n",
              "      <td>0.000000</td>\n",
              "      <td>0.000000</td>\n",
              "      <td>0.000000</td>\n",
              "      <td>0.000000</td>\n",
              "      <td>0.000000</td>\n",
              "      <td>0.000000</td>\n",
              "      <td>0.000000</td>\n",
              "      <td>0.000000</td>\n",
              "      <td>0.000000</td>\n",
              "      <td>0.000000</td>\n",
              "      <td>0.000000</td>\n",
              "      <td>0.000000</td>\n",
              "      <td>0.000000</td>\n",
              "      <td>0.000000</td>\n",
              "      <td>0.000000</td>\n",
              "      <td>0.000000</td>\n",
              "      <td>0.000000</td>\n",
              "      <td>0.000000</td>\n",
              "      <td>0.000000</td>\n",
              "      <td>0.000000</td>\n",
              "      <td>0.000000</td>\n",
              "      <td>0.000000</td>\n",
              "      <td>0.000000</td>\n",
              "      <td>2.000000</td>\n",
              "    </tr>\n",
              "    <tr>\n",
              "      <th>max</th>\n",
              "      <td>3858.000000</td>\n",
              "      <td>360.000000</td>\n",
              "      <td>66.000000</td>\n",
              "      <td>1397.000000</td>\n",
              "      <td>601.000000</td>\n",
              "      <td>7117.000000</td>\n",
              "      <td>254.000000</td>\n",
              "      <td>254.000000</td>\n",
              "      <td>254.000000</td>\n",
              "      <td>7173.000000</td>\n",
              "      <td>1.000000</td>\n",
              "      <td>1.000000</td>\n",
              "      <td>1.000000</td>\n",
              "      <td>1.000000</td>\n",
              "      <td>1.000000</td>\n",
              "      <td>1.000000</td>\n",
              "      <td>1.000000</td>\n",
              "      <td>1.000000</td>\n",
              "      <td>1.000000</td>\n",
              "      <td>1.000000</td>\n",
              "      <td>1.000000</td>\n",
              "      <td>1.000000</td>\n",
              "      <td>1.000000</td>\n",
              "      <td>1.000000</td>\n",
              "      <td>1.000000</td>\n",
              "      <td>1.000000</td>\n",
              "      <td>1.000000</td>\n",
              "      <td>1.000000</td>\n",
              "      <td>1.000000</td>\n",
              "      <td>1.000000</td>\n",
              "      <td>1.000000</td>\n",
              "      <td>1.000000</td>\n",
              "      <td>1.000000</td>\n",
              "      <td>1.000000</td>\n",
              "      <td>1.000000</td>\n",
              "      <td>1.000000</td>\n",
              "      <td>1.000000</td>\n",
              "      <td>1.000000</td>\n",
              "      <td>1.000000</td>\n",
              "      <td>1.000000</td>\n",
              "      <td>1.000000</td>\n",
              "      <td>1.000000</td>\n",
              "      <td>1.000000</td>\n",
              "      <td>1.000000</td>\n",
              "      <td>1.000000</td>\n",
              "      <td>1.000000</td>\n",
              "      <td>1.000000</td>\n",
              "      <td>1.000000</td>\n",
              "      <td>1.000000</td>\n",
              "      <td>1.000000</td>\n",
              "      <td>1.000000</td>\n",
              "      <td>1.000000</td>\n",
              "      <td>1.000000</td>\n",
              "      <td>1.000000</td>\n",
              "      <td>7.000000</td>\n",
              "    </tr>\n",
              "  </tbody>\n",
              "</table>\n",
              "</div>"
            ],
            "text/plain": [
              "           Elevation         Aspect          Slope  \\\n",
              "count  581012.000000  581012.000000  581012.000000   \n",
              "mean     2959.365301     155.656807      14.103704   \n",
              "std       279.984734     111.913721       7.488242   \n",
              "min      1859.000000       0.000000       0.000000   \n",
              "25%      2809.000000      58.000000       9.000000   \n",
              "50%      2996.000000     127.000000      13.000000   \n",
              "75%      3163.000000     260.000000      18.000000   \n",
              "max      3858.000000     360.000000      66.000000   \n",
              "\n",
              "       Horizontal_Distance_To_Hydrology  Vertical_Distance_To_Hydrology  \\\n",
              "count                     581012.000000                   581012.000000   \n",
              "mean                         269.428217                       46.418855   \n",
              "std                          212.549356                       58.295232   \n",
              "min                            0.000000                     -173.000000   \n",
              "25%                          108.000000                        7.000000   \n",
              "50%                          218.000000                       30.000000   \n",
              "75%                          384.000000                       69.000000   \n",
              "max                         1397.000000                      601.000000   \n",
              "\n",
              "       Horizontal_Distance_To_Roadways  Hillshade_9am  Hillshade_Noon  \\\n",
              "count                    581012.000000  581012.000000   581012.000000   \n",
              "mean                       2350.146611     212.146049      223.318716   \n",
              "std                        1559.254870      26.769889       19.768697   \n",
              "min                           0.000000       0.000000        0.000000   \n",
              "25%                        1106.000000     198.000000      213.000000   \n",
              "50%                        1997.000000     218.000000      226.000000   \n",
              "75%                        3328.000000     231.000000      237.000000   \n",
              "max                        7117.000000     254.000000      254.000000   \n",
              "\n",
              "       Hillshade_3pm  Horizontal_Distance_To_Fire_Points  Wilderness_Area1  \\\n",
              "count  581012.000000                       581012.000000     581012.000000   \n",
              "mean      142.528263                         1980.291226          0.448865   \n",
              "std        38.274529                         1324.195210          0.497379   \n",
              "min         0.000000                            0.000000          0.000000   \n",
              "25%       119.000000                         1024.000000          0.000000   \n",
              "50%       143.000000                         1710.000000          0.000000   \n",
              "75%       168.000000                         2550.000000          1.000000   \n",
              "max       254.000000                         7173.000000          1.000000   \n",
              "\n",
              "       Wilderness_Area2  Wilderness_Area3  Wilderness_Area4     Soil_Type1  \\\n",
              "count     581012.000000     581012.000000     581012.000000  581012.000000   \n",
              "mean           0.051434          0.436074          0.063627       0.005217   \n",
              "std            0.220882          0.495897          0.244087       0.072039   \n",
              "min            0.000000          0.000000          0.000000       0.000000   \n",
              "25%            0.000000          0.000000          0.000000       0.000000   \n",
              "50%            0.000000          0.000000          0.000000       0.000000   \n",
              "75%            0.000000          1.000000          0.000000       0.000000   \n",
              "max            1.000000          1.000000          1.000000       1.000000   \n",
              "\n",
              "          Soil_Type2     Soil_Type3     Soil_Type4     Soil_Type5  \\\n",
              "count  581012.000000  581012.000000  581012.000000  581012.000000   \n",
              "mean        0.012952       0.008301       0.021335       0.002749   \n",
              "std         0.113066       0.090731       0.144499       0.052356   \n",
              "min         0.000000       0.000000       0.000000       0.000000   \n",
              "25%         0.000000       0.000000       0.000000       0.000000   \n",
              "50%         0.000000       0.000000       0.000000       0.000000   \n",
              "75%         0.000000       0.000000       0.000000       0.000000   \n",
              "max         1.000000       1.000000       1.000000       1.000000   \n",
              "\n",
              "          Soil_Type6     Soil_Type7     Soil_Type8     Soil_Type9  \\\n",
              "count  581012.000000  581012.000000  581012.000000  581012.000000   \n",
              "mean        0.011316       0.000181       0.000308       0.001974   \n",
              "std         0.105775       0.013442       0.017550       0.044387   \n",
              "min         0.000000       0.000000       0.000000       0.000000   \n",
              "25%         0.000000       0.000000       0.000000       0.000000   \n",
              "50%         0.000000       0.000000       0.000000       0.000000   \n",
              "75%         0.000000       0.000000       0.000000       0.000000   \n",
              "max         1.000000       1.000000       1.000000       1.000000   \n",
              "\n",
              "         Soil_Type10    Soil_Type11    Soil_Type12    Soil_Type13  \\\n",
              "count  581012.000000  581012.000000  581012.000000  581012.000000   \n",
              "mean        0.056168       0.021359       0.051584       0.030001   \n",
              "std         0.230245       0.144579       0.221186       0.170590   \n",
              "min         0.000000       0.000000       0.000000       0.000000   \n",
              "25%         0.000000       0.000000       0.000000       0.000000   \n",
              "50%         0.000000       0.000000       0.000000       0.000000   \n",
              "75%         0.000000       0.000000       0.000000       0.000000   \n",
              "max         1.000000       1.000000       1.000000       1.000000   \n",
              "\n",
              "         Soil_Type14    Soil_Type15    Soil_Type16    Soil_Type17  \\\n",
              "count  581012.000000  581012.000000  581012.000000  581012.000000   \n",
              "mean        0.001031       0.000005       0.004897       0.005890   \n",
              "std         0.032092       0.002272       0.069804       0.076518   \n",
              "min         0.000000       0.000000       0.000000       0.000000   \n",
              "25%         0.000000       0.000000       0.000000       0.000000   \n",
              "50%         0.000000       0.000000       0.000000       0.000000   \n",
              "75%         0.000000       0.000000       0.000000       0.000000   \n",
              "max         1.000000       1.000000       1.000000       1.000000   \n",
              "\n",
              "         Soil_Type18    Soil_Type19    Soil_Type20    Soil_Type21  \\\n",
              "count  581012.000000  581012.000000  581012.000000  581012.000000   \n",
              "mean        0.003268       0.006921       0.015936       0.001442   \n",
              "std         0.057077       0.082902       0.125228       0.037950   \n",
              "min         0.000000       0.000000       0.000000       0.000000   \n",
              "25%         0.000000       0.000000       0.000000       0.000000   \n",
              "50%         0.000000       0.000000       0.000000       0.000000   \n",
              "75%         0.000000       0.000000       0.000000       0.000000   \n",
              "max         1.000000       1.000000       1.000000       1.000000   \n",
              "\n",
              "         Soil_Type22    Soil_Type23    Soil_Type24    Soil_Type25  \\\n",
              "count  581012.000000  581012.000000  581012.000000  581012.000000   \n",
              "mean        0.057439       0.099399       0.036622       0.000816   \n",
              "std         0.232681       0.299197       0.187833       0.028551   \n",
              "min         0.000000       0.000000       0.000000       0.000000   \n",
              "25%         0.000000       0.000000       0.000000       0.000000   \n",
              "50%         0.000000       0.000000       0.000000       0.000000   \n",
              "75%         0.000000       0.000000       0.000000       0.000000   \n",
              "max         1.000000       1.000000       1.000000       1.000000   \n",
              "\n",
              "         Soil_Type26    Soil_Type27    Soil_Type28    Soil_Type29  \\\n",
              "count  581012.000000  581012.000000  581012.000000  581012.000000   \n",
              "mean        0.004456       0.001869       0.001628       0.198356   \n",
              "std         0.066605       0.043193       0.040318       0.398762   \n",
              "min         0.000000       0.000000       0.000000       0.000000   \n",
              "25%         0.000000       0.000000       0.000000       0.000000   \n",
              "50%         0.000000       0.000000       0.000000       0.000000   \n",
              "75%         0.000000       0.000000       0.000000       0.000000   \n",
              "max         1.000000       1.000000       1.000000       1.000000   \n",
              "\n",
              "         Soil_Type30    Soil_Type31    Soil_Type32    Soil_Type33  \\\n",
              "count  581012.000000  581012.000000  581012.000000  581012.000000   \n",
              "mean        0.051927       0.044175       0.090392       0.077716   \n",
              "std         0.221879       0.205483       0.286743       0.267725   \n",
              "min         0.000000       0.000000       0.000000       0.000000   \n",
              "25%         0.000000       0.000000       0.000000       0.000000   \n",
              "50%         0.000000       0.000000       0.000000       0.000000   \n",
              "75%         0.000000       0.000000       0.000000       0.000000   \n",
              "max         1.000000       1.000000       1.000000       1.000000   \n",
              "\n",
              "         Soil_Type34    Soil_Type35    Soil_Type36    Soil_Type37  \\\n",
              "count  581012.000000  581012.000000  581012.000000  581012.000000   \n",
              "mean        0.002773       0.003255       0.000205       0.000513   \n",
              "std         0.052584       0.056957       0.014310       0.022641   \n",
              "min         0.000000       0.000000       0.000000       0.000000   \n",
              "25%         0.000000       0.000000       0.000000       0.000000   \n",
              "50%         0.000000       0.000000       0.000000       0.000000   \n",
              "75%         0.000000       0.000000       0.000000       0.000000   \n",
              "max         1.000000       1.000000       1.000000       1.000000   \n",
              "\n",
              "         Soil_Type38    Soil_Type39    Soil_Type40     Cover_Type  \n",
              "count  581012.000000  581012.000000  581012.000000  581012.000000  \n",
              "mean        0.026803       0.023762       0.015060       2.051471  \n",
              "std         0.161508       0.152307       0.121791       1.396504  \n",
              "min         0.000000       0.000000       0.000000       1.000000  \n",
              "25%         0.000000       0.000000       0.000000       1.000000  \n",
              "50%         0.000000       0.000000       0.000000       2.000000  \n",
              "75%         0.000000       0.000000       0.000000       2.000000  \n",
              "max         1.000000       1.000000       1.000000       7.000000  "
            ]
          },
          "metadata": {
            "tags": []
          },
          "execution_count": 35
        }
      ]
    },
    {
      "cell_type": "markdown",
      "metadata": {
        "id": "surrounded-bacon"
      },
      "source": [
        "# Prepare data for classification \n",
        "First the data is scaled on the same scale and then We split the data into train and test split to train the data and then evaluate performance of differnet algorithms that we would be using to classify the data"
      ],
      "id": "surrounded-bacon"
    },
    {
      "cell_type": "code",
      "metadata": {
        "id": "discrete-wrapping"
      },
      "source": [
        "from sklearn.preprocessing import MinMaxScaler\n",
        "from sklearn.preprocessing import LabelEncoder\n",
        "lbl=LabelEncoder()\n",
        "scaler=MinMaxScaler()\n",
        "\n",
        "y=df.Cover_Type.values\n",
        "y=lbl.fit_transform(y)\n",
        "X=df.drop(columns=['Cover_Type']).values\n",
        "X=scaler.fit_transform(X)\n",
        "from sklearn.model_selection import train_test_split\n",
        "X_train, X_test, y_train, y_test = train_test_split(\n",
        "    X, y, train_size=0.2, random_state=40)\n"
      ],
      "id": "discrete-wrapping",
      "execution_count": 36,
      "outputs": []
    },
    {
      "cell_type": "markdown",
      "metadata": {
        "id": "ceramic-destruction"
      },
      "source": [
        "# Fitting different algorithms for predictions\n",
        "In the next step we would be fitting following three models\n",
        "* Logistic Regression\n",
        "* RandomForest Regression\n",
        "* Linear SVC\n",
        "\n",
        "to get the best model out of them, then we would evaluate the model's performance to see it's performance ."
      ],
      "id": "ceramic-destruction"
    },
    {
      "cell_type": "code",
      "metadata": {
        "id": "smoking-toilet",
        "colab": {
          "base_uri": "https://localhost:8080/"
        },
        "outputId": "5eaecc52-04a3-4eae-ccea-685f8078474d"
      },
      "source": [
        "from sklearn.naive_bayes import GaussianNB\n",
        "from sklearn.linear_model import LogisticRegression\n",
        "from sklearn.model_selection import StratifiedKFold\n",
        "from sklearn.svm import LinearSVC\n",
        "from sklearn.ensemble import RandomForestClassifier\n",
        "lr=LogisticRegression(max_iter=1000,multi_class=\"auto\", solver=\"liblinear\")\n",
        "lr.fit(X_train,y_train)\n",
        "\n",
        "\n"
      ],
      "id": "smoking-toilet",
      "execution_count": 37,
      "outputs": [
        {
          "output_type": "execute_result",
          "data": {
            "text/plain": [
              "LogisticRegression(C=1.0, class_weight=None, dual=False, fit_intercept=True,\n",
              "                   intercept_scaling=1, l1_ratio=None, max_iter=1000,\n",
              "                   multi_class='auto', n_jobs=None, penalty='l2',\n",
              "                   random_state=None, solver='liblinear', tol=0.0001, verbose=0,\n",
              "                   warm_start=False)"
            ]
          },
          "metadata": {
            "tags": []
          },
          "execution_count": 37
        }
      ]
    },
    {
      "cell_type": "code",
      "metadata": {
        "id": "regulation-return",
        "colab": {
          "base_uri": "https://localhost:8080/"
        },
        "outputId": "38546da7-dbb1-47e2-a7dc-a45e584c5a9b"
      },
      "source": [
        "from sklearn.metrics import accuracy_score\n",
        "from sklearn.metrics import classification_report\n",
        "from sklearn.metrics import confusion_matrix\n",
        "from sklearn.metrics import plot_roc_curve\n",
        "from sklearn.metrics import multilabel_confusion_matrix\n",
        "from sklearn.metrics import plot_confusion_matrix\n",
        "lr_pred=lr.predict(X_test)\n",
        "lr_accuracy=accuracy_score(y_test,lr_pred)\n",
        "print(lr_accuracy)\n"
      ],
      "id": "regulation-return",
      "execution_count": 38,
      "outputs": [
        {
          "output_type": "stream",
          "text": [
            "0.7140100256018588\n"
          ],
          "name": "stdout"
        }
      ]
    },
    {
      "cell_type": "code",
      "metadata": {
        "id": "specified-classification",
        "colab": {
          "base_uri": "https://localhost:8080/"
        },
        "outputId": "5e15ba1c-d226-41a3-f41e-fa2fa416a011"
      },
      "source": [
        "print(multilabel_confusion_matrix(y_test,lr.predict(X_test)))\n"
      ],
      "id": "specified-classification",
      "execution_count": 39,
      "outputs": [
        {
          "output_type": "stream",
          "text": [
            "[[[247494  47773]\n",
            "  [ 53006 116537]]\n",
            "\n",
            " [[173877  64434]\n",
            "  [ 45844 180655]]\n",
            "\n",
            " [[420444  15880]\n",
            "  [  3602  24884]]\n",
            "\n",
            " [[462390    228]\n",
            "  [  1734    458]]\n",
            "\n",
            " [[456994    183]\n",
            "  [  7585     48]]\n",
            "\n",
            " [[449928    935]\n",
            "  [ 13179    768]]\n",
            "\n",
            " [[444802   3498]\n",
            "  [  7981   8529]]]\n"
          ],
          "name": "stdout"
        }
      ]
    },
    {
      "cell_type": "code",
      "metadata": {
        "id": "united-december",
        "colab": {
          "base_uri": "https://localhost:8080/"
        },
        "outputId": "67b2da8a-6f2b-4e48-ee73-c0874bf83614"
      },
      "source": [
        "print(classification_report(y_test,lr_pred))"
      ],
      "id": "united-december",
      "execution_count": 40,
      "outputs": [
        {
          "output_type": "stream",
          "text": [
            "              precision    recall  f1-score   support\n",
            "\n",
            "           0       0.71      0.69      0.70    169543\n",
            "           1       0.74      0.80      0.77    226499\n",
            "           2       0.61      0.87      0.72     28486\n",
            "           3       0.67      0.21      0.32      2192\n",
            "           4       0.21      0.01      0.01      7633\n",
            "           5       0.45      0.06      0.10     13947\n",
            "           6       0.71      0.52      0.60     16510\n",
            "\n",
            "    accuracy                           0.71    464810\n",
            "   macro avg       0.58      0.45      0.46    464810\n",
            "weighted avg       0.70      0.71      0.70    464810\n",
            "\n"
          ],
          "name": "stdout"
        }
      ]
    },
    {
      "cell_type": "code",
      "metadata": {
        "id": "mexican-holly",
        "colab": {
          "base_uri": "https://localhost:8080/",
          "height": 518
        },
        "outputId": "86742061-5127-475c-8f79-ccb42aa0c204"
      },
      "source": [
        "cm = ConfusionMatrix(lr, classes=lbl.classes_, label_encoder=lbl\n",
        "                )\n",
        "cm.fit(X_train, y_train)\n",
        "\n",
        "cm.score(X_test, y_test)\n",
        "\n",
        "\n"
      ],
      "id": "mexican-holly",
      "execution_count": 41,
      "outputs": [
        {
          "output_type": "execute_result",
          "data": {
            "text/plain": [
              "0.11854090918870076"
            ]
          },
          "metadata": {
            "tags": []
          },
          "execution_count": 41
        },
        {
          "output_type": "display_data",
          "data": {
            "image/png": "[encoded data removed]",
            "text/plain": [
              "<Figure size 842.4x595.44 with 1 Axes>"
            ]
          },
          "metadata": {
            "tags": []
          }
        }
      ]
    },
    {
      "cell_type": "markdown",
      "metadata": {
        "id": "noted-memorabilia"
      },
      "source": [
        "The Confusion matrix plot for logistic regression shows that various information for the 7 classes in the dataset, the important thing to note here is that in some cases the number of true positive cases are are the highest and in few cases the True negative is zero which shows the models ability to coverge to various classes and is not focusing on only one class."
      ],
      "id": "noted-memorabilia"
    },
    {
      "cell_type": "markdown",
      "metadata": {
        "id": "prompt-adams"
      },
      "source": [
        "# Random Forest"
      ],
      "id": "prompt-adams"
    },
    {
      "cell_type": "code",
      "metadata": {
        "id": "infinite-event"
      },
      "source": [
        "rfc=RandomForestClassifier()\n",
        "rfc.fit(X_train,y_train)\n",
        "rfc_pred=rfc.predict(X_test)\n"
      ],
      "id": "infinite-event",
      "execution_count": 42,
      "outputs": []
    },
    {
      "cell_type": "code",
      "metadata": {
        "id": "velvet-detection",
        "colab": {
          "base_uri": "https://localhost:8080/",
          "height": 521
        },
        "outputId": "75a16550-0b67-40fe-8c94-7c534f2795ea"
      },
      "source": [
        "feat_importances = pd.Series(rfc.feature_importances_, index=df.columns.drop('Cover_Type'))\n",
        "feat_importances.nlargest(15).plot(kind='barh',color=colors[16:30])"
      ],
      "id": "velvet-detection",
      "execution_count": 43,
      "outputs": [
        {
          "output_type": "execute_result",
          "data": {
            "text/plain": [
              "<matplotlib.axes._subplots.AxesSubplot at 0x7f9b260991d0>"
            ]
          },
          "metadata": {
            "tags": []
          },
          "execution_count": 43
        },
        {
          "output_type": "display_data",
          "data": {
            "image/png": "[encoded data removed]",
            "text/plain": [
              "<Figure size 842.4x595.44 with 1 Axes>"
            ]
          },
          "metadata": {
            "tags": []
          }
        }
      ]
    },
    {
      "cell_type": "markdown",
      "metadata": {
        "id": "attractive-custom"
      },
      "source": [
        "We plot the top 15 features that plays important role in the creation of the Trees for the random forest, we can also think this of as the most important features for making the predictions about the classes, since the RF gives the best accuracy out of others three algorithms so we can see that the\n",
        "\n",
        "* Elevation\n",
        "* Horizontal Distance to the Roadways\n",
        "* Horizontal Distance to the Fire points\n",
        "\n",
        "are the top three features for creation of the forest."
      ],
      "id": "attractive-custom"
    },
    {
      "cell_type": "code",
      "metadata": {
        "id": "nutritional-peoples",
        "colab": {
          "base_uri": "https://localhost:8080/"
        },
        "outputId": "b1b088f3-072a-43d2-b8da-718cda933b9b"
      },
      "source": [
        "rf_accuracy=accuracy_score(y_test,rfc_pred)\n",
        "print(rf_accuracy)\n"
      ],
      "id": "nutritional-peoples",
      "execution_count": 44,
      "outputs": [
        {
          "output_type": "stream",
          "text": [
            "0.9158150642197888\n"
          ],
          "name": "stdout"
        }
      ]
    },
    {
      "cell_type": "code",
      "metadata": {
        "id": "dying-creativity",
        "colab": {
          "base_uri": "https://localhost:8080/"
        },
        "outputId": "98c2056f-462a-4af0-969e-001a7bd5bf2f"
      },
      "source": [
        "print(multilabel_confusion_matrix(y_test,rfc.predict(X_test)))\n"
      ],
      "id": "dying-creativity",
      "execution_count": 45,
      "outputs": [
        {
          "output_type": "stream",
          "text": [
            "[[[283546  11721]\n",
            "  [ 17133 152410]]\n",
            "\n",
            " [[216825  21486]\n",
            "  [ 11359 215140]]\n",
            "\n",
            " [[432900   3424]\n",
            "  [  1769  26717]]\n",
            "\n",
            " [[462423    195]\n",
            "  [   470   1722]]\n",
            "\n",
            " [[456824    353]\n",
            "  [  3342   4291]]\n",
            "\n",
            " [[449495   1368]\n",
            "  [  3144  10803]]\n",
            "\n",
            " [[447717    583]\n",
            "  [  1913  14597]]]\n"
          ],
          "name": "stdout"
        }
      ]
    },
    {
      "cell_type": "code",
      "metadata": {
        "id": "competent-meditation",
        "colab": {
          "base_uri": "https://localhost:8080/"
        },
        "outputId": "5b0b0e32-e97e-420e-b952-50a0092ce4d7"
      },
      "source": [
        "print(classification_report(y_test,rfc_pred))"
      ],
      "id": "competent-meditation",
      "execution_count": 46,
      "outputs": [
        {
          "output_type": "stream",
          "text": [
            "              precision    recall  f1-score   support\n",
            "\n",
            "           0       0.93      0.90      0.91    169543\n",
            "           1       0.91      0.95      0.93    226499\n",
            "           2       0.89      0.94      0.91     28486\n",
            "           3       0.90      0.79      0.84      2192\n",
            "           4       0.92      0.56      0.70      7633\n",
            "           5       0.89      0.77      0.83     13947\n",
            "           6       0.96      0.88      0.92     16510\n",
            "\n",
            "    accuracy                           0.92    464810\n",
            "   macro avg       0.91      0.83      0.86    464810\n",
            "weighted avg       0.92      0.92      0.91    464810\n",
            "\n"
          ],
          "name": "stdout"
        }
      ]
    },
    {
      "cell_type": "code",
      "metadata": {
        "id": "organizational-legislature",
        "colab": {
          "base_uri": "https://localhost:8080/",
          "height": 518
        },
        "outputId": "b1674443-a1fe-4ef7-86a6-a98573c60722"
      },
      "source": [
        "cm = ConfusionMatrix(rfc, classes=lbl.classes_, label_encoder=lbl\n",
        "                )\n",
        "cm.fit(X_train, y_train)\n",
        "\n",
        "cm.score(X_test, y_test)"
      ],
      "id": "organizational-legislature",
      "execution_count": 47,
      "outputs": [
        {
          "output_type": "execute_result",
          "data": {
            "text/plain": [
              "0.03742819646737377"
            ]
          },
          "metadata": {
            "tags": []
          },
          "execution_count": 47
        },
        {
          "output_type": "display_data",
          "data": {
            "image/png": "[encoded data removed]",
            "text/plain": [
              "<Figure size 842.4x595.44 with 1 Axes>"
            ]
          },
          "metadata": {
            "tags": []
          }
        }
      ]
    },
    {
      "cell_type": "markdown",
      "metadata": {
        "id": "touched-manor"
      },
      "source": [
        "Like Logistic Regression the confusion matrix for RFC is plotted to see it's performance,if we only take the top left of the matrix and compare it with the logistic regression we can see that the RF is better at giving the predictions than that of Logistic Regression, the same fact for the class can be verififed by looking at the F-1 score in the classification report of the two models. The other classes decipts the same information when compared to the Logistic Regression. Also for the Random Forest's F-1 score for class three is 0.84 which is very great as compared to the Logistic Regression F-1 Score for class three which was 0.32."
      ],
      "id": "touched-manor"
    },
    {
      "cell_type": "markdown",
      "metadata": {
        "id": "eleven-denial"
      },
      "source": [
        "# Linear SVC"
      ],
      "id": "eleven-denial"
    },
    {
      "cell_type": "code",
      "metadata": {
        "id": "about-insert",
        "colab": {
          "base_uri": "https://localhost:8080/"
        },
        "outputId": "f8b1a41d-8ec7-491c-c0e5-cf0ff49ccedc"
      },
      "source": [
        "svc = LinearSVC()\n",
        "svc.fit(X_train,y_train)"
      ],
      "id": "about-insert",
      "execution_count": 48,
      "outputs": [
        {
          "output_type": "execute_result",
          "data": {
            "text/plain": [
              "LinearSVC(C=1.0, class_weight=None, dual=True, fit_intercept=True,\n",
              "          intercept_scaling=1, loss='squared_hinge', max_iter=1000,\n",
              "          multi_class='ovr', penalty='l2', random_state=None, tol=0.0001,\n",
              "          verbose=0)"
            ]
          },
          "metadata": {
            "tags": []
          },
          "execution_count": 48
        }
      ]
    },
    {
      "cell_type": "code",
      "metadata": {
        "id": "organizational-marketplace",
        "colab": {
          "base_uri": "https://localhost:8080/"
        },
        "outputId": "10075415-889c-4ac0-b399-2a470ff958da"
      },
      "source": [
        "svc_pred=svc.predict(X_test)\n",
        "svc_accuracy=accuracy_score(y_test,svc_pred)\n",
        "print(svc_accuracy)"
      ],
      "id": "organizational-marketplace",
      "execution_count": 49,
      "outputs": [
        {
          "output_type": "stream",
          "text": [
            "0.7123577375701899\n"
          ],
          "name": "stdout"
        }
      ]
    },
    {
      "cell_type": "code",
      "metadata": {
        "id": "mechanical-algebra",
        "colab": {
          "base_uri": "https://localhost:8080/"
        },
        "outputId": "0a5a4710-7fb7-43bd-c5a5-7f424695d44f"
      },
      "source": [
        "print(multilabel_confusion_matrix(y_test,svc.predict(X_test)))\n"
      ],
      "id": "mechanical-algebra",
      "execution_count": 50,
      "outputs": [
        {
          "output_type": "stream",
          "text": [
            "[[[247112  48155]\n",
            "  [ 53533 116010]]\n",
            "\n",
            " [[173403  64908]\n",
            "  [ 45816 180683]]\n",
            "\n",
            " [[420247  16077]\n",
            "  [  3484  25002]]\n",
            "\n",
            " [[462392    226]\n",
            "  [  1747    445]]\n",
            "\n",
            " [[457148     29]\n",
            "  [  7607     26]]\n",
            "\n",
            " [[450150    713]\n",
            "  [ 13366    581]]\n",
            "\n",
            " [[444709   3591]\n",
            "  [  8146   8364]]]\n"
          ],
          "name": "stdout"
        }
      ]
    },
    {
      "cell_type": "code",
      "metadata": {
        "id": "featured-transfer",
        "colab": {
          "base_uri": "https://localhost:8080/"
        },
        "outputId": "351d276a-d6e7-418f-cda9-e1c522d0e6c8"
      },
      "source": [
        "print(classification_report(y_test,svc_pred))"
      ],
      "id": "featured-transfer",
      "execution_count": 51,
      "outputs": [
        {
          "output_type": "stream",
          "text": [
            "              precision    recall  f1-score   support\n",
            "\n",
            "           0       0.71      0.68      0.70    169543\n",
            "           1       0.74      0.80      0.77    226499\n",
            "           2       0.61      0.88      0.72     28486\n",
            "           3       0.66      0.20      0.31      2192\n",
            "           4       0.47      0.00      0.01      7633\n",
            "           5       0.45      0.04      0.08     13947\n",
            "           6       0.70      0.51      0.59     16510\n",
            "\n",
            "    accuracy                           0.71    464810\n",
            "   macro avg       0.62      0.44      0.45    464810\n",
            "weighted avg       0.70      0.71      0.70    464810\n",
            "\n"
          ],
          "name": "stdout"
        }
      ]
    },
    {
      "cell_type": "code",
      "metadata": {
        "id": "concrete-japan",
        "colab": {
          "base_uri": "https://localhost:8080/",
          "height": 518
        },
        "outputId": "74eabcdc-a2cf-496c-9650-b3495e73baf5"
      },
      "source": [
        "cm = ConfusionMatrix(svc, classes=lbl.classes_, label_encoder=lbl\n",
        "                )\n",
        "cm.fit(X_train, y_train)\n",
        "\n",
        "cm.score(X_test, y_test)"
      ],
      "id": "concrete-japan",
      "execution_count": 52,
      "outputs": [
        {
          "output_type": "execute_result",
          "data": {
            "text/plain": [
              "0.11947032120651449"
            ]
          },
          "metadata": {
            "tags": []
          },
          "execution_count": 52
        },
        {
          "output_type": "display_data",
          "data": {
            "image/png": "[encoded data removed]",
            "text/plain": [
              "<Figure size 842.4x595.44 with 1 Axes>"
            ]
          },
          "metadata": {
            "tags": []
          }
        }
      ]
    },
    {
      "cell_type": "markdown",
      "metadata": {
        "id": "qualified-drilling"
      },
      "source": [
        "In the last the confusion matrix for the LInear SVC is plotted , the performance of the Linear SVC is almost identical to that of the Logistic Regression , if we see for the class six the F-1 score and the confusion matrix for the Logistic regression is 0.1 points better than that of Linear SVC which explains that there is a very small variance in the results of the two algorithm."
      ],
      "id": "qualified-drilling"
    },
    {
      "cell_type": "markdown",
      "metadata": {
        "id": "temporal-capability"
      },
      "source": [
        "# Accuracy comparision"
      ],
      "id": "temporal-capability"
    },
    {
      "cell_type": "code",
      "metadata": {
        "id": "electric-cowboy",
        "colab": {
          "base_uri": "https://localhost:8080/",
          "height": 521
        },
        "outputId": "ff564e9a-3cd4-4cd7-a5f0-da93d62ebae5"
      },
      "source": [
        "pd.Series([rf_accuracy,lr_accuracy,svc_accuracy],index=['Random Forest','Logistic Regression','Linear SVC']).plot(kind='barh',\n",
        "                                                                                                                 color=['red','green','blue'])"
      ],
      "id": "electric-cowboy",
      "execution_count": 53,
      "outputs": [
        {
          "output_type": "execute_result",
          "data": {
            "text/plain": [
              "<matplotlib.axes._subplots.AxesSubplot at 0x7f9b1bf4f3c8>"
            ]
          },
          "metadata": {
            "tags": []
          },
          "execution_count": 53
        },
        {
          "output_type": "display_data",
          "data": {
            "image/png": "[encoded data removed]",
            "text/plain": [
              "<Figure size 842.4x595.44 with 1 Axes>"
            ]
          },
          "metadata": {
            "tags": []
          }
        }
      ]
    },
    {
      "cell_type": "markdown",
      "metadata": {
        "id": "opening-spank"
      },
      "source": [
        "We plot a bar plot to see that accuracy comparision of the three models and it is very clear that the Random Forest wins the race, and has a very high accuracy."
      ],
      "id": "opening-spank"
    },
    {
      "cell_type": "markdown",
      "metadata": {
        "id": "revolutionary-smell"
      },
      "source": [
        "So from the above results it is evident that the RandomForest with the default parameters is the best fitting model with the default parameters, next we evaluate the model to see that how it would do on the test set."
      ],
      "id": "revolutionary-smell"
    },
    {
      "cell_type": "code",
      "metadata": {
        "id": "affected-surge"
      },
      "source": [
        ""
      ],
      "id": "affected-surge",
      "execution_count": 53,
      "outputs": []
    },
    {
      "cell_type": "markdown",
      "metadata": {
        "id": "unnecessary-psychology"
      },
      "source": [
        "So from the observations above it is clear that the model is not overfitting or underfitting on the test set because the accuracy on the test set is 91.61 % which is good considering that the model is fitted using default parameters,the classfication report on the test set also supports this fact that the model is good at classifiying the Cover_type because the F-1 score for every class is good expect class \"5\" so we aim to imporve the accuracy and F-1 score of the model in the next step by hyperparameter tuning to find the best fitting parameters for the model."
      ],
      "id": "unnecessary-psychology"
    },
    {
      "cell_type": "markdown",
      "metadata": {
        "id": "applicable-brass"
      },
      "source": [
        "# Hyper paramter tuning\n",
        "\n",
        "To get the best hyperparameter for the best fitting model"
      ],
      "id": "applicable-brass"
    },
    {
      "cell_type": "code",
      "metadata": {
        "id": "worth-benjamin",
        "colab": {
          "base_uri": "https://localhost:8080/"
        },
        "outputId": "8efb30d5-c6fc-4fcc-e1e8-50d7489deb02"
      },
      "source": [
        "from sklearn.model_selection import GridSearchCV\n",
        "\n",
        "rfc = RandomForestClassifier() \n",
        "\n",
        "params = { \n",
        "    'n_estimators': [200, 700]}\n",
        "    \n",
        "CV_rfc = GridSearchCV(estimator=rfc, param_grid=params, cv= 2,n_jobs=-1,verbose=3,\n",
        "                     )\n",
        "CV_rfc.fit(X_train, y_train)"
      ],
      "id": "worth-benjamin",
      "execution_count": 54,
      "outputs": [
        {
          "output_type": "stream",
          "text": [
            "Fitting 2 folds for each of 2 candidates, totalling 4 fits\n"
          ],
          "name": "stdout"
        },
        {
          "output_type": "stream",
          "text": [
            "[Parallel(n_jobs=-1)]: Using backend LokyBackend with 2 concurrent workers.\n",
            "[Parallel(n_jobs=-1)]: Done   4 out of   4 | elapsed:  3.3min finished\n"
          ],
          "name": "stderr"
        },
        {
          "output_type": "execute_result",
          "data": {
            "text/plain": [
              "GridSearchCV(cv=2, error_score=nan,\n",
              "             estimator=RandomForestClassifier(bootstrap=True, ccp_alpha=0.0,\n",
              "                                              class_weight=None,\n",
              "                                              criterion='gini', max_depth=None,\n",
              "                                              max_features='auto',\n",
              "                                              max_leaf_nodes=None,\n",
              "                                              max_samples=None,\n",
              "                                              min_impurity_decrease=0.0,\n",
              "                                              min_impurity_split=None,\n",
              "                                              min_samples_leaf=1,\n",
              "                                              min_samples_split=2,\n",
              "                                              min_weight_fraction_leaf=0.0,\n",
              "                                              n_estimators=100, n_jobs=None,\n",
              "                                              oob_score=False,\n",
              "                                              random_state=None, verbose=0,\n",
              "                                              warm_start=False),\n",
              "             iid='deprecated', n_jobs=-1,\n",
              "             param_grid={'n_estimators': [200, 700]}, pre_dispatch='2*n_jobs',\n",
              "             refit=True, return_train_score=False, scoring=None, verbose=3)"
            ]
          },
          "metadata": {
            "tags": []
          },
          "execution_count": 54
        }
      ]
    },
    {
      "cell_type": "code",
      "metadata": {
        "id": "qualified-bosnia",
        "colab": {
          "base_uri": "https://localhost:8080/"
        },
        "outputId": "80394805-bf4c-44d7-dd0b-9840fd4bde63"
      },
      "source": [
        "CV_rfc.best_params_ \n",
        "#So 700 trees are the best fitting parameters "
      ],
      "id": "qualified-bosnia",
      "execution_count": 55,
      "outputs": [
        {
          "output_type": "execute_result",
          "data": {
            "text/plain": [
              "{'n_estimators': 700}"
            ]
          },
          "metadata": {
            "tags": []
          },
          "execution_count": 55
        }
      ]
    },
    {
      "cell_type": "code",
      "metadata": {
        "id": "recovered-transportation",
        "colab": {
          "base_uri": "https://localhost:8080/"
        },
        "outputId": "0fff2752-07bd-401e-ea5b-7c4f3cc28fae"
      },
      "source": [
        "print(multilabel_confusion_matrix(y_test,CV_rfc.predict(X_test)))\n"
      ],
      "id": "recovered-transportation",
      "execution_count": 56,
      "outputs": [
        {
          "output_type": "stream",
          "text": [
            "[[[284101  11166]\n",
            "  [ 17130 152413]]\n",
            "\n",
            " [[216923  21388]\n",
            "  [ 10796 215703]]\n",
            "\n",
            " [[433004   3320]\n",
            "  [  1727  26759]]\n",
            "\n",
            " [[462414    204]\n",
            "  [   453   1739]]\n",
            "\n",
            " [[456857    320]\n",
            "  [  3294   4339]]\n",
            "\n",
            " [[449527   1336]\n",
            "  [  3053  10894]]\n",
            "\n",
            " [[447705    595]\n",
            "  [  1876  14634]]]\n"
          ],
          "name": "stdout"
        }
      ]
    },
    {
      "cell_type": "code",
      "metadata": {
        "id": "imposed-xerox",
        "colab": {
          "base_uri": "https://localhost:8080/"
        },
        "outputId": "7e960d01-fcf5-4c17-9a26-f6797fdeb32e"
      },
      "source": [
        "print(accuracy_score(y_test,CV_rfc.predict(X_test)))\n"
      ],
      "id": "imposed-xerox",
      "execution_count": 57,
      "outputs": [
        {
          "output_type": "stream",
          "text": [
            "0.9175383490028184\n"
          ],
          "name": "stdout"
        }
      ]
    },
    {
      "cell_type": "code",
      "metadata": {
        "id": "human-preference",
        "colab": {
          "base_uri": "https://localhost:8080/"
        },
        "outputId": "2723d2c2-9ed1-4298-8e7d-06f24a27ef1b"
      },
      "source": [
        "print(classification_report(y_test,CV_rfc.predict(X_test)))"
      ],
      "id": "human-preference",
      "execution_count": 58,
      "outputs": [
        {
          "output_type": "stream",
          "text": [
            "              precision    recall  f1-score   support\n",
            "\n",
            "           0       0.93      0.90      0.92    169543\n",
            "           1       0.91      0.95      0.93    226499\n",
            "           2       0.89      0.94      0.91     28486\n",
            "           3       0.90      0.79      0.84      2192\n",
            "           4       0.93      0.57      0.71      7633\n",
            "           5       0.89      0.78      0.83     13947\n",
            "           6       0.96      0.89      0.92     16510\n",
            "\n",
            "    accuracy                           0.92    464810\n",
            "   macro avg       0.92      0.83      0.87    464810\n",
            "weighted avg       0.92      0.92      0.92    464810\n",
            "\n"
          ],
          "name": "stdout"
        }
      ]
    },
    {
      "cell_type": "code",
      "metadata": {
        "id": "august-target",
        "colab": {
          "base_uri": "https://localhost:8080/",
          "height": 572
        },
        "outputId": "987389bb-bc96-4533-f991-7bccb6a06748"
      },
      "source": [
        "cm = ConfusionMatrix(CV_rfc, classes=lbl.classes_, label_encoder=lbl\n",
        "                )\n",
        "cm.fit(X_train, y_train)\n",
        "\n",
        "cm.score(X_test, y_test)"
      ],
      "id": "august-target",
      "execution_count": 59,
      "outputs": [
        {
          "output_type": "stream",
          "text": [
            "Fitting 2 folds for each of 2 candidates, totalling 4 fits\n"
          ],
          "name": "stdout"
        },
        {
          "output_type": "stream",
          "text": [
            "[Parallel(n_jobs=-1)]: Using backend LokyBackend with 2 concurrent workers.\n",
            "[Parallel(n_jobs=-1)]: Done   4 out of   4 | elapsed:  3.2min finished\n"
          ],
          "name": "stderr"
        },
        {
          "output_type": "execute_result",
          "data": {
            "text/plain": [
              "0.03744540780103698"
            ]
          },
          "metadata": {
            "tags": []
          },
          "execution_count": 59
        },
        {
          "output_type": "display_data",
          "data": {
            "image/png": "[encoded data removed]",
            "text/plain": [
              "<Figure size 842.4x595.44 with 1 Axes>"
            ]
          },
          "metadata": {
            "tags": []
          }
        }
      ]
    },
    {
      "cell_type": "markdown",
      "metadata": {
        "id": "cross-perfume"
      },
      "source": [
        "After hyperparamter tuning the model accuracy increases to 91.76 % which indicates that hyperparameter tuning by using more trees the accuracy increases."
      ],
      "id": "cross-perfume"
    },
    {
      "cell_type": "markdown",
      "metadata": {
        "id": "respiratory-smart"
      },
      "source": [
        "# Creating Neural Network"
      ],
      "id": "respiratory-smart"
    },
    {
      "cell_type": "markdown",
      "metadata": {
        "id": "hairy-hayes"
      },
      "source": [
        "Next we make the use of KERAS to create a simple Neural Network with the ability to classify multilabel problem as ours. The model would have one input layer with activation function as relu, one hidden layer with relu activation and an output layer with softmax activation as we have multilabels, we would use adam optimizer to reduce the errors in the predictions and use categorical cross entropy as loss function"
      ],
      "id": "hairy-hayes"
    },
    {
      "cell_type": "code",
      "metadata": {
        "id": "average-eating"
      },
      "source": [
        "from keras.models import Sequential\n",
        "from keras.layers import Dense\n",
        "import numpy as np\n",
        "\n",
        "model=Sequential([Dense(128, activation='relu',input_dim=54)\n",
        "                  ,Dense(64, activation='sigmoid')\n",
        "                  ,Dense(8,activation ='softmax')])\n",
        "from keras.callbacks import ReduceLROnPlateau\n",
        "from keras.optimizers import Adam\n",
        "\n",
        "red_lr= ReduceLROnPlateau(monitor='accuracy',patience=3,verbose=1,factor=0.1) #define early stop criteria\n",
        "model.compile( loss='sparse_categorical_crossentropy', metrics=['accuracy'],optimizer=Adam(0.001))\n"
      ],
      "id": "average-eating",
      "execution_count": 60,
      "outputs": []
    },
    {
      "cell_type": "code",
      "metadata": {
        "id": "respected-satisfaction",
        "colab": {
          "base_uri": "https://localhost:8080/"
        },
        "outputId": "ddd6d607-ebb0-440c-d7ae-89c48bc79a6d"
      },
      "source": [
        "model.fit(X_train,y_train,epochs=100,verbose=1,batch_size=128,callbacks=red_lr)"
      ],
      "id": "respected-satisfaction",
      "execution_count": 61,
      "outputs": [
        {
          "output_type": "stream",
          "text": [
            "Epoch 1/100\n",
            "908/908 [==============================] - 2s 2ms/step - loss: 1.0252 - accuracy: 0.5746\n",
            "Epoch 2/100\n",
            "908/908 [==============================] - 2s 2ms/step - loss: 0.6746 - accuracy: 0.7180\n",
            "Epoch 3/100\n",
            "908/908 [==============================] - 2s 2ms/step - loss: 0.6412 - accuracy: 0.7285\n",
            "Epoch 4/100\n",
            "908/908 [==============================] - 2s 2ms/step - loss: 0.6236 - accuracy: 0.7353\n",
            "Epoch 5/100\n",
            "908/908 [==============================] - 2s 2ms/step - loss: 0.6100 - accuracy: 0.7396\n",
            "Epoch 6/100\n",
            "908/908 [==============================] - 2s 2ms/step - loss: 0.6015 - accuracy: 0.7433\n",
            "Epoch 7/100\n",
            "908/908 [==============================] - 1s 2ms/step - loss: 0.5876 - accuracy: 0.7495\n",
            "Epoch 8/100\n",
            "908/908 [==============================] - 2s 2ms/step - loss: 0.5825 - accuracy: 0.7508\n",
            "Epoch 9/100\n",
            "908/908 [==============================] - 2s 2ms/step - loss: 0.5676 - accuracy: 0.7593\n",
            "Epoch 10/100\n",
            "908/908 [==============================] - 1s 2ms/step - loss: 0.5629 - accuracy: 0.7604\n",
            "Epoch 11/100\n",
            "908/908 [==============================] - 2s 2ms/step - loss: 0.5581 - accuracy: 0.7628\n",
            "Epoch 12/100\n",
            "908/908 [==============================] - 2s 2ms/step - loss: 0.5499 - accuracy: 0.7626\n",
            "Epoch 13/100\n",
            "908/908 [==============================] - 2s 2ms/step - loss: 0.5451 - accuracy: 0.7677\n",
            "Epoch 14/100\n",
            "908/908 [==============================] - 2s 2ms/step - loss: 0.5377 - accuracy: 0.7707\n",
            "Epoch 15/100\n",
            "908/908 [==============================] - 2s 2ms/step - loss: 0.5345 - accuracy: 0.7715\n",
            "Epoch 16/100\n",
            "908/908 [==============================] - 2s 2ms/step - loss: 0.5252 - accuracy: 0.7742\n",
            "Epoch 17/100\n",
            "908/908 [==============================] - 2s 2ms/step - loss: 0.5175 - accuracy: 0.7776\n",
            "Epoch 18/100\n",
            "908/908 [==============================] - 2s 2ms/step - loss: 0.5153 - accuracy: 0.7773\n",
            "Epoch 19/100\n",
            "908/908 [==============================] - 2s 2ms/step - loss: 0.5130 - accuracy: 0.7788\n",
            "Epoch 20/100\n",
            "908/908 [==============================] - 2s 2ms/step - loss: 0.5036 - accuracy: 0.7816\n",
            "Epoch 21/100\n",
            "908/908 [==============================] - 2s 2ms/step - loss: 0.5003 - accuracy: 0.7850\n",
            "Epoch 22/100\n",
            "908/908 [==============================] - 2s 2ms/step - loss: 0.4957 - accuracy: 0.7858\n",
            "Epoch 23/100\n",
            "908/908 [==============================] - 2s 2ms/step - loss: 0.4965 - accuracy: 0.7848\n",
            "Epoch 24/100\n",
            "908/908 [==============================] - 2s 2ms/step - loss: 0.4862 - accuracy: 0.7933\n",
            "Epoch 25/100\n",
            "908/908 [==============================] - 2s 2ms/step - loss: 0.4835 - accuracy: 0.7914\n",
            "Epoch 26/100\n",
            "908/908 [==============================] - 1s 2ms/step - loss: 0.4824 - accuracy: 0.7915\n",
            "Epoch 27/100\n",
            "908/908 [==============================] - 2s 2ms/step - loss: 0.4741 - accuracy: 0.7982\n",
            "Epoch 28/100\n",
            "908/908 [==============================] - 2s 2ms/step - loss: 0.4724 - accuracy: 0.7964\n",
            "Epoch 29/100\n",
            "908/908 [==============================] - 2s 2ms/step - loss: 0.4647 - accuracy: 0.8018\n",
            "Epoch 30/100\n",
            "908/908 [==============================] - 2s 2ms/step - loss: 0.4632 - accuracy: 0.8007\n",
            "Epoch 31/100\n",
            "908/908 [==============================] - 1s 2ms/step - loss: 0.4601 - accuracy: 0.8033\n",
            "Epoch 32/100\n",
            "908/908 [==============================] - 2s 2ms/step - loss: 0.4541 - accuracy: 0.8054\n",
            "Epoch 33/100\n",
            "908/908 [==============================] - 2s 2ms/step - loss: 0.4490 - accuracy: 0.8082\n",
            "Epoch 34/100\n",
            "908/908 [==============================] - 2s 2ms/step - loss: 0.4486 - accuracy: 0.8087\n",
            "Epoch 35/100\n",
            "908/908 [==============================] - 1s 2ms/step - loss: 0.4457 - accuracy: 0.8088\n",
            "Epoch 36/100\n",
            "908/908 [==============================] - 2s 2ms/step - loss: 0.4348 - accuracy: 0.8153\n",
            "Epoch 37/100\n",
            "908/908 [==============================] - 2s 2ms/step - loss: 0.4345 - accuracy: 0.8160\n",
            "Epoch 38/100\n",
            "908/908 [==============================] - 2s 2ms/step - loss: 0.4356 - accuracy: 0.8142\n",
            "Epoch 39/100\n",
            "908/908 [==============================] - 2s 2ms/step - loss: 0.4261 - accuracy: 0.8177\n",
            "Epoch 40/100\n",
            "908/908 [==============================] - 1s 2ms/step - loss: 0.4238 - accuracy: 0.8205\n",
            "Epoch 41/100\n",
            "908/908 [==============================] - 2s 2ms/step - loss: 0.4222 - accuracy: 0.8209\n",
            "Epoch 42/100\n",
            "908/908 [==============================] - 2s 2ms/step - loss: 0.4159 - accuracy: 0.8240\n",
            "Epoch 43/100\n",
            "908/908 [==============================] - 2s 2ms/step - loss: 0.4203 - accuracy: 0.8202\n",
            "Epoch 44/100\n",
            "908/908 [==============================] - 2s 2ms/step - loss: 0.4129 - accuracy: 0.8261\n",
            "Epoch 45/100\n",
            "908/908 [==============================] - 2s 2ms/step - loss: 0.4114 - accuracy: 0.8259\n",
            "Epoch 46/100\n",
            "908/908 [==============================] - 1s 2ms/step - loss: 0.4060 - accuracy: 0.8269\n",
            "Epoch 47/100\n",
            "908/908 [==============================] - 1s 2ms/step - loss: 0.4103 - accuracy: 0.8250\n",
            "Epoch 48/100\n",
            "908/908 [==============================] - 1s 2ms/step - loss: 0.4065 - accuracy: 0.8282\n",
            "Epoch 49/100\n",
            "908/908 [==============================] - 2s 2ms/step - loss: 0.4013 - accuracy: 0.8284\n",
            "Epoch 50/100\n",
            "908/908 [==============================] - 2s 2ms/step - loss: 0.3987 - accuracy: 0.8311\n",
            "Epoch 51/100\n",
            "908/908 [==============================] - 2s 2ms/step - loss: 0.3941 - accuracy: 0.8340\n",
            "Epoch 52/100\n",
            "908/908 [==============================] - 2s 2ms/step - loss: 0.3941 - accuracy: 0.8330\n",
            "Epoch 53/100\n",
            "908/908 [==============================] - 2s 2ms/step - loss: 0.3944 - accuracy: 0.8333\n",
            "Epoch 54/100\n",
            "908/908 [==============================] - 2s 2ms/step - loss: 0.3913 - accuracy: 0.8346\n",
            "Epoch 55/100\n",
            "908/908 [==============================] - 2s 2ms/step - loss: 0.3875 - accuracy: 0.8371\n",
            "Epoch 56/100\n",
            "908/908 [==============================] - 2s 2ms/step - loss: 0.3850 - accuracy: 0.8377\n",
            "Epoch 57/100\n",
            "908/908 [==============================] - 2s 2ms/step - loss: 0.3852 - accuracy: 0.8358\n",
            "Epoch 58/100\n",
            "908/908 [==============================] - 1s 2ms/step - loss: 0.3826 - accuracy: 0.8368\n",
            "Epoch 59/100\n",
            "908/908 [==============================] - 1s 2ms/step - loss: 0.3809 - accuracy: 0.8376\n",
            "Epoch 60/100\n",
            "908/908 [==============================] - 1s 2ms/step - loss: 0.3731 - accuracy: 0.8425\n",
            "Epoch 61/100\n",
            "908/908 [==============================] - 2s 2ms/step - loss: 0.3765 - accuracy: 0.8392\n",
            "Epoch 62/100\n",
            "908/908 [==============================] - 2s 2ms/step - loss: 0.3744 - accuracy: 0.8421\n",
            "Epoch 63/100\n",
            "908/908 [==============================] - 2s 2ms/step - loss: 0.3762 - accuracy: 0.8400\n",
            "Epoch 64/100\n",
            "908/908 [==============================] - 2s 2ms/step - loss: 0.3731 - accuracy: 0.8402\n",
            "Epoch 65/100\n",
            "908/908 [==============================] - 2s 2ms/step - loss: 0.3686 - accuracy: 0.8446\n",
            "Epoch 66/100\n",
            "908/908 [==============================] - 2s 2ms/step - loss: 0.3678 - accuracy: 0.8445\n",
            "Epoch 67/100\n",
            "908/908 [==============================] - 2s 2ms/step - loss: 0.3651 - accuracy: 0.8447\n",
            "Epoch 68/100\n",
            "908/908 [==============================] - 2s 2ms/step - loss: 0.3637 - accuracy: 0.8483\n",
            "Epoch 69/100\n",
            "908/908 [==============================] - 2s 2ms/step - loss: 0.3607 - accuracy: 0.8495\n",
            "Epoch 70/100\n",
            "908/908 [==============================] - 1s 2ms/step - loss: 0.3614 - accuracy: 0.8477\n",
            "Epoch 71/100\n",
            "908/908 [==============================] - 2s 2ms/step - loss: 0.3551 - accuracy: 0.8512\n",
            "Epoch 72/100\n",
            "908/908 [==============================] - 2s 2ms/step - loss: 0.3543 - accuracy: 0.8502\n",
            "Epoch 73/100\n",
            "908/908 [==============================] - 2s 2ms/step - loss: 0.3554 - accuracy: 0.8503\n",
            "Epoch 74/100\n",
            "908/908 [==============================] - 2s 2ms/step - loss: 0.3546 - accuracy: 0.8509\n",
            "Epoch 75/100\n",
            "908/908 [==============================] - 2s 2ms/step - loss: 0.3490 - accuracy: 0.8521\n",
            "Epoch 76/100\n",
            "908/908 [==============================] - 2s 2ms/step - loss: 0.3520 - accuracy: 0.8533\n",
            "Epoch 77/100\n",
            "908/908 [==============================] - 2s 2ms/step - loss: 0.3484 - accuracy: 0.8550\n",
            "Epoch 78/100\n",
            "908/908 [==============================] - 2s 2ms/step - loss: 0.3460 - accuracy: 0.8570\n",
            "Epoch 79/100\n",
            "908/908 [==============================] - 2s 2ms/step - loss: 0.3447 - accuracy: 0.8558\n",
            "Epoch 80/100\n",
            "908/908 [==============================] - 2s 2ms/step - loss: 0.3435 - accuracy: 0.8565\n",
            "Epoch 81/100\n",
            "908/908 [==============================] - 2s 2ms/step - loss: 0.3417 - accuracy: 0.8569\n",
            "\n",
            "Epoch 00081: ReduceLROnPlateau reducing learning rate to 0.00010000000474974513.\n",
            "Epoch 82/100\n",
            "908/908 [==============================] - 2s 2ms/step - loss: 0.3258 - accuracy: 0.8659\n",
            "Epoch 83/100\n",
            "908/908 [==============================] - 2s 2ms/step - loss: 0.3235 - accuracy: 0.8673\n",
            "Epoch 84/100\n",
            "908/908 [==============================] - 2s 2ms/step - loss: 0.3263 - accuracy: 0.8655\n",
            "Epoch 85/100\n",
            "908/908 [==============================] - 2s 2ms/step - loss: 0.3224 - accuracy: 0.8665\n",
            "Epoch 86/100\n",
            "908/908 [==============================] - 1s 2ms/step - loss: 0.3232 - accuracy: 0.8670\n",
            "Epoch 87/100\n",
            "908/908 [==============================] - 1s 2ms/step - loss: 0.3260 - accuracy: 0.8661\n",
            "Epoch 88/100\n",
            "908/908 [==============================] - 2s 2ms/step - loss: 0.3275 - accuracy: 0.8642\n",
            "Epoch 89/100\n",
            "908/908 [==============================] - 2s 2ms/step - loss: 0.3228 - accuracy: 0.8678\n",
            "Epoch 90/100\n",
            "908/908 [==============================] - 2s 2ms/step - loss: 0.3240 - accuracy: 0.8666\n",
            "Epoch 91/100\n",
            "908/908 [==============================] - 2s 2ms/step - loss: 0.3211 - accuracy: 0.8682\n",
            "Epoch 92/100\n",
            "908/908 [==============================] - 2s 2ms/step - loss: 0.3246 - accuracy: 0.8668\n",
            "Epoch 93/100\n",
            "908/908 [==============================] - 2s 2ms/step - loss: 0.3234 - accuracy: 0.8678\n",
            "Epoch 94/100\n",
            "908/908 [==============================] - 1s 2ms/step - loss: 0.3221 - accuracy: 0.8672\n",
            "\n",
            "Epoch 00094: ReduceLROnPlateau reducing learning rate to 1.0000000474974514e-05.\n",
            "Epoch 95/100\n",
            "908/908 [==============================] - 2s 2ms/step - loss: 0.3225 - accuracy: 0.8673\n",
            "Epoch 96/100\n",
            "908/908 [==============================] - 2s 2ms/step - loss: 0.3200 - accuracy: 0.8690\n",
            "Epoch 97/100\n",
            "908/908 [==============================] - 2s 2ms/step - loss: 0.3199 - accuracy: 0.8684\n",
            "Epoch 98/100\n",
            "908/908 [==============================] - 2s 2ms/step - loss: 0.3176 - accuracy: 0.8691\n",
            "Epoch 99/100\n",
            "908/908 [==============================] - 1s 2ms/step - loss: 0.3226 - accuracy: 0.8678\n",
            "Epoch 100/100\n",
            "908/908 [==============================] - 2s 2ms/step - loss: 0.3169 - accuracy: 0.8700\n"
          ],
          "name": "stdout"
        },
        {
          "output_type": "execute_result",
          "data": {
            "text/plain": [
              "<tensorflow.python.keras.callbacks.History at 0x7f9b175f2780>"
            ]
          },
          "metadata": {
            "tags": []
          },
          "execution_count": 61
        }
      ]
    },
    {
      "cell_type": "code",
      "metadata": {
        "id": "legislative-reply",
        "colab": {
          "base_uri": "https://localhost:8080/"
        },
        "outputId": "03bcfac8-8c9c-4d0c-e04a-7b17269c8ce7"
      },
      "source": [
        "from keras.models import model_from_json\n",
        "model_json = model.to_json()\n",
        "with open(\"model.json\", \"w\") as json_file:\n",
        "    json_file.write(model_json)\n",
        "# serialize weights to HDF5\n",
        "model.save_weights(\"model.h5\")\n",
        "print(\"Saved model to disk\")\n"
      ],
      "id": "legislative-reply",
      "execution_count": 62,
      "outputs": [
        {
          "output_type": "stream",
          "text": [
            "Saved model to disk\n"
          ],
          "name": "stdout"
        }
      ]
    },
    {
      "cell_type": "markdown",
      "metadata": {
        "id": "included-accent"
      },
      "source": [
        "So after 100 epochs we can see that the model accuracy is 0.8667 we save the model to the .h5 file and would resume the training for addtional epochs to see that if we can increase the accuracy"
      ],
      "id": "included-accent"
    },
    {
      "cell_type": "code",
      "metadata": {
        "id": "digital-sheriff",
        "colab": {
          "base_uri": "https://localhost:8080/"
        },
        "outputId": "0464bb9f-84a0-4175-d18b-cd90874146e8"
      },
      "source": [
        "# load json and create model\n",
        "json_file = open('model.json', 'r')\n",
        "loaded_model_json = json_file.read()\n",
        "json_file.close()\n",
        "loaded_model = model_from_json(loaded_model_json)\n",
        "# load weights into new model\n",
        "loaded_model.load_weights(\"model.h5\")\n",
        "print(\"Loaded model from disk\")"
      ],
      "id": "digital-sheriff",
      "execution_count": 63,
      "outputs": [
        {
          "output_type": "stream",
          "text": [
            "Loaded model from disk\n"
          ],
          "name": "stdout"
        }
      ]
    },
    {
      "cell_type": "code",
      "metadata": {
        "id": "thirty-underwear",
        "colab": {
          "base_uri": "https://localhost:8080/"
        },
        "outputId": "91102f77-c398-47e3-b94b-7ada56651f54"
      },
      "source": [
        "from keras.callbacks import ReduceLROnPlateau\n",
        "from keras.optimizers import Adam\n",
        "loaded_model.compile( loss='sparse_categorical_crossentropy', metrics=['accuracy'],optimizer=Adam(0.001))\n",
        "red_lr= ReduceLROnPlateau(monitor='accuracy',patience=3,verbose=1,factor=0.1) #define early stop criteria\n",
        "\n",
        "history=loaded_model.fit(X_train,y_train,epochs=60,verbose=1,batch_size=128,callbacks=red_lr)"
      ],
      "id": "thirty-underwear",
      "execution_count": 64,
      "outputs": [
        {
          "output_type": "stream",
          "text": [
            "Epoch 1/60\n",
            "908/908 [==============================] - 2s 2ms/step - loss: 0.3363 - accuracy: 0.8599\n",
            "Epoch 2/60\n",
            "908/908 [==============================] - 2s 2ms/step - loss: 0.3343 - accuracy: 0.8610\n",
            "Epoch 3/60\n",
            "908/908 [==============================] - 2s 2ms/step - loss: 0.3339 - accuracy: 0.8599\n",
            "Epoch 4/60\n",
            "908/908 [==============================] - 1s 2ms/step - loss: 0.3352 - accuracy: 0.8604\n",
            "Epoch 5/60\n",
            "908/908 [==============================] - 2s 2ms/step - loss: 0.3292 - accuracy: 0.8624\n",
            "Epoch 6/60\n",
            "908/908 [==============================] - 2s 2ms/step - loss: 0.3352 - accuracy: 0.8606\n",
            "Epoch 7/60\n",
            "908/908 [==============================] - 2s 2ms/step - loss: 0.3313 - accuracy: 0.8622\n",
            "Epoch 8/60\n",
            "908/908 [==============================] - 2s 2ms/step - loss: 0.3259 - accuracy: 0.8636\n",
            "Epoch 9/60\n",
            "908/908 [==============================] - 2s 2ms/step - loss: 0.3284 - accuracy: 0.8646\n",
            "Epoch 10/60\n",
            "908/908 [==============================] - 2s 2ms/step - loss: 0.3242 - accuracy: 0.8657\n",
            "Epoch 11/60\n",
            "908/908 [==============================] - 2s 2ms/step - loss: 0.3205 - accuracy: 0.8666\n",
            "Epoch 12/60\n",
            "908/908 [==============================] - 2s 2ms/step - loss: 0.3258 - accuracy: 0.8655\n",
            "Epoch 13/60\n",
            "908/908 [==============================] - 2s 2ms/step - loss: 0.3210 - accuracy: 0.8677\n",
            "Epoch 14/60\n",
            "908/908 [==============================] - 1s 2ms/step - loss: 0.3169 - accuracy: 0.8692\n",
            "Epoch 15/60\n",
            "908/908 [==============================] - 2s 2ms/step - loss: 0.3199 - accuracy: 0.8677\n",
            "Epoch 16/60\n",
            "908/908 [==============================] - 2s 2ms/step - loss: 0.3169 - accuracy: 0.8687\n",
            "Epoch 17/60\n",
            "908/908 [==============================] - 2s 2ms/step - loss: 0.3179 - accuracy: 0.8669\n",
            "Epoch 18/60\n",
            "908/908 [==============================] - 2s 2ms/step - loss: 0.3143 - accuracy: 0.8704\n",
            "Epoch 19/60\n",
            "908/908 [==============================] - 2s 2ms/step - loss: 0.3147 - accuracy: 0.8700\n",
            "Epoch 20/60\n",
            "908/908 [==============================] - 2s 2ms/step - loss: 0.3151 - accuracy: 0.8703\n",
            "Epoch 21/60\n",
            "908/908 [==============================] - 2s 2ms/step - loss: 0.3077 - accuracy: 0.8725\n",
            "Epoch 22/60\n",
            "908/908 [==============================] - 2s 2ms/step - loss: 0.3101 - accuracy: 0.8724\n",
            "Epoch 23/60\n",
            "908/908 [==============================] - 2s 2ms/step - loss: 0.3098 - accuracy: 0.8708\n",
            "Epoch 24/60\n",
            "908/908 [==============================] - 2s 2ms/step - loss: 0.3119 - accuracy: 0.8711\n",
            "Epoch 25/60\n",
            "908/908 [==============================] - 2s 2ms/step - loss: 0.3066 - accuracy: 0.8721\n",
            "Epoch 26/60\n",
            "908/908 [==============================] - 2s 2ms/step - loss: 0.3071 - accuracy: 0.8723\n",
            "Epoch 27/60\n",
            "908/908 [==============================] - 2s 2ms/step - loss: 0.3070 - accuracy: 0.8728\n",
            "Epoch 28/60\n",
            "908/908 [==============================] - 2s 2ms/step - loss: 0.3041 - accuracy: 0.8750\n",
            "Epoch 29/60\n",
            "908/908 [==============================] - 1s 2ms/step - loss: 0.3054 - accuracy: 0.8746\n",
            "Epoch 30/60\n",
            "908/908 [==============================] - 2s 2ms/step - loss: 0.3017 - accuracy: 0.8750\n",
            "Epoch 31/60\n",
            "908/908 [==============================] - 2s 2ms/step - loss: 0.3046 - accuracy: 0.8757\n",
            "Epoch 32/60\n",
            "908/908 [==============================] - 2s 2ms/step - loss: 0.3030 - accuracy: 0.8746\n",
            "Epoch 33/60\n",
            "908/908 [==============================] - 2s 2ms/step - loss: 0.3009 - accuracy: 0.8763\n",
            "Epoch 34/60\n",
            "908/908 [==============================] - 2s 2ms/step - loss: 0.2972 - accuracy: 0.8769\n",
            "Epoch 35/60\n",
            "908/908 [==============================] - 2s 2ms/step - loss: 0.2954 - accuracy: 0.8783\n",
            "Epoch 36/60\n",
            "908/908 [==============================] - 2s 2ms/step - loss: 0.2964 - accuracy: 0.8777\n",
            "Epoch 37/60\n",
            "908/908 [==============================] - 1s 2ms/step - loss: 0.2962 - accuracy: 0.8779\n",
            "Epoch 38/60\n",
            "908/908 [==============================] - 2s 2ms/step - loss: 0.2930 - accuracy: 0.8792\n",
            "\n",
            "Epoch 00038: ReduceLROnPlateau reducing learning rate to 0.00010000000474974513.\n",
            "Epoch 39/60\n",
            "908/908 [==============================] - 1s 2ms/step - loss: 0.2793 - accuracy: 0.8870\n",
            "Epoch 40/60\n",
            "908/908 [==============================] - 2s 2ms/step - loss: 0.2782 - accuracy: 0.8891\n",
            "Epoch 41/60\n",
            "908/908 [==============================] - 2s 2ms/step - loss: 0.2801 - accuracy: 0.8867\n",
            "Epoch 42/60\n",
            "908/908 [==============================] - 2s 2ms/step - loss: 0.2765 - accuracy: 0.8891\n",
            "Epoch 43/60\n",
            "908/908 [==============================] - 2s 2ms/step - loss: 0.2791 - accuracy: 0.8871\n",
            "Epoch 44/60\n",
            "908/908 [==============================] - 2s 2ms/step - loss: 0.2759 - accuracy: 0.8881\n",
            "Epoch 45/60\n",
            "908/908 [==============================] - 2s 2ms/step - loss: 0.2753 - accuracy: 0.8887\n",
            "Epoch 46/60\n",
            "908/908 [==============================] - 1s 2ms/step - loss: 0.2771 - accuracy: 0.8867\n",
            "\n",
            "Epoch 00046: ReduceLROnPlateau reducing learning rate to 1.0000000474974514e-05.\n",
            "Epoch 47/60\n",
            "908/908 [==============================] - 2s 2ms/step - loss: 0.2715 - accuracy: 0.8920\n",
            "Epoch 48/60\n",
            "908/908 [==============================] - 2s 2ms/step - loss: 0.2756 - accuracy: 0.8900\n",
            "Epoch 49/60\n",
            "908/908 [==============================] - 2s 2ms/step - loss: 0.2772 - accuracy: 0.8880\n",
            "Epoch 50/60\n",
            "908/908 [==============================] - 2s 2ms/step - loss: 0.2754 - accuracy: 0.8890\n",
            "\n",
            "Epoch 00050: ReduceLROnPlateau reducing learning rate to 1.0000000656873453e-06.\n",
            "Epoch 51/60\n",
            "908/908 [==============================] - 2s 2ms/step - loss: 0.2769 - accuracy: 0.8882\n",
            "Epoch 52/60\n",
            "908/908 [==============================] - 2s 2ms/step - loss: 0.2732 - accuracy: 0.8895\n",
            "Epoch 53/60\n",
            "908/908 [==============================] - 2s 2ms/step - loss: 0.2732 - accuracy: 0.8901\n",
            "Epoch 54/60\n",
            "908/908 [==============================] - 2s 2ms/step - loss: 0.2729 - accuracy: 0.8893\n",
            "\n",
            "Epoch 00054: ReduceLROnPlateau reducing learning rate to 1.0000001111620805e-07.\n",
            "Epoch 55/60\n",
            "908/908 [==============================] - 2s 2ms/step - loss: 0.2772 - accuracy: 0.8897\n",
            "Epoch 56/60\n",
            "908/908 [==============================] - 2s 2ms/step - loss: 0.2735 - accuracy: 0.8894\n",
            "Epoch 57/60\n",
            "908/908 [==============================] - 2s 2ms/step - loss: 0.2747 - accuracy: 0.8893\n",
            "\n",
            "Epoch 00057: ReduceLROnPlateau reducing learning rate to 1.000000082740371e-08.\n",
            "Epoch 58/60\n",
            "908/908 [==============================] - 2s 2ms/step - loss: 0.2733 - accuracy: 0.8893\n",
            "Epoch 59/60\n",
            "908/908 [==============================] - 2s 2ms/step - loss: 0.2751 - accuracy: 0.8894\n",
            "Epoch 60/60\n",
            "908/908 [==============================] - 2s 2ms/step - loss: 0.2731 - accuracy: 0.8906\n",
            "\n",
            "Epoch 00060: ReduceLROnPlateau reducing learning rate to 1.000000082740371e-09.\n"
          ],
          "name": "stdout"
        }
      ]
    },
    {
      "cell_type": "markdown",
      "metadata": {
        "id": "emerging-stations"
      },
      "source": [
        "It is evident that after callbacks of ReduceLROnPlateau the model accuracy is 89.80 % for 160 epochs , next we evaluate it on the test set"
      ],
      "id": "emerging-stations"
    },
    {
      "cell_type": "code",
      "metadata": {
        "id": "willing-effort",
        "colab": {
          "base_uri": "https://localhost:8080/"
        },
        "outputId": "78a8dabb-a9e0-4d21-8255-53778e27176a"
      },
      "source": [
        "loaded_model.summary()"
      ],
      "id": "willing-effort",
      "execution_count": 65,
      "outputs": [
        {
          "output_type": "stream",
          "text": [
            "Model: \"sequential\"\n",
            "_________________________________________________________________\n",
            "Layer (type)                 Output Shape              Param #   \n",
            "=================================================================\n",
            "dense (Dense)                (None, 128)               7040      \n",
            "_________________________________________________________________\n",
            "dense_1 (Dense)              (None, 64)                8256      \n",
            "_________________________________________________________________\n",
            "dense_2 (Dense)              (None, 8)                 520       \n",
            "=================================================================\n",
            "Total params: 15,816\n",
            "Trainable params: 15,816\n",
            "Non-trainable params: 0\n",
            "_________________________________________________________________\n"
          ],
          "name": "stdout"
        }
      ]
    },
    {
      "cell_type": "code",
      "metadata": {
        "id": "german-knitting",
        "colab": {
          "base_uri": "https://localhost:8080/",
          "height": 521
        },
        "outputId": "bf1d738a-b974-4999-c10e-89ec232ff61d"
      },
      "source": [
        "plt.plot(history.history['accuracy'])"
      ],
      "id": "german-knitting",
      "execution_count": 66,
      "outputs": [
        {
          "output_type": "execute_result",
          "data": {
            "text/plain": [
              "[<matplotlib.lines.Line2D at 0x7f9b14e84828>]"
            ]
          },
          "metadata": {
            "tags": []
          },
          "execution_count": 66
        },
        {
          "output_type": "display_data",
          "data": {
            "image/png": "[encoded data removed]",
            "text/plain": [
              "<Figure size 842.4x595.44 with 1 Axes>"
            ]
          },
          "metadata": {
            "tags": []
          }
        }
      ]
    },
    {
      "cell_type": "markdown",
      "metadata": {
        "id": "ordered-librarian"
      },
      "source": [
        "We can see that the model accuracy incrases over the number of epochs."
      ],
      "id": "ordered-librarian"
    },
    {
      "cell_type": "code",
      "metadata": {
        "id": "passing-quilt",
        "colab": {
          "base_uri": "https://localhost:8080/",
          "height": 521
        },
        "outputId": "d6f1c7a1-3424-437e-cf82-84194bd46d18"
      },
      "source": [
        "plt.plot(history.history['loss'])"
      ],
      "id": "passing-quilt",
      "execution_count": 67,
      "outputs": [
        {
          "output_type": "execute_result",
          "data": {
            "text/plain": [
              "[<matplotlib.lines.Line2D at 0x7f9b145dffd0>]"
            ]
          },
          "metadata": {
            "tags": []
          },
          "execution_count": 67
        },
        {
          "output_type": "display_data",
          "data": {
            "image/png": "[encoded data removed]",
            "text/plain": [
              "<Figure size 842.4x595.44 with 1 Axes>"
            ]
          },
          "metadata": {
            "tags": []
          }
        }
      ]
    },
    {
      "cell_type": "markdown",
      "metadata": {
        "id": "absolute-advice"
      },
      "source": [
        "Similarly when the accuracy increases it is natural that the model loss would go down over the number of epochs."
      ],
      "id": "absolute-advice"
    },
    {
      "cell_type": "code",
      "metadata": {
        "id": "strange-savings",
        "colab": {
          "base_uri": "https://localhost:8080/",
          "height": 521
        },
        "outputId": "737aab92-a814-49c1-9bae-34e335822c4d"
      },
      "source": [
        "plt.plot(history.history['lr'])"
      ],
      "id": "strange-savings",
      "execution_count": 68,
      "outputs": [
        {
          "output_type": "execute_result",
          "data": {
            "text/plain": [
              "[<matplotlib.lines.Line2D at 0x7f9b145c3978>]"
            ]
          },
          "metadata": {
            "tags": []
          },
          "execution_count": 68
        },
        {
          "output_type": "display_data",
          "data": {
            "image/png": "[encoded data removed]",
            "text/plain": [
              "<Figure size 842.4x595.44 with 1 Axes>"
            ]
          },
          "metadata": {
            "tags": []
          }
        }
      ]
    },
    {
      "cell_type": "markdown",
      "metadata": {
        "id": "needed-butterfly"
      },
      "source": [
        "The learning rate of the model decreases as we have used ReduceLROnPlateu that would decrease the learning rate to converge more accurately to the goal."
      ],
      "id": "needed-butterfly"
    },
    {
      "cell_type": "code",
      "metadata": {
        "id": "separate-generation"
      },
      "source": [
        "pred=loaded_model.predict(X_test)\n",
        "pred_val=np.argmax(pred,axis=1) #getting the one with highest value"
      ],
      "id": "separate-generation",
      "execution_count": 69,
      "outputs": []
    },
    {
      "cell_type": "code",
      "metadata": {
        "id": "fitting-valuable",
        "colab": {
          "base_uri": "https://localhost:8080/"
        },
        "outputId": "0154aceb-184e-43d8-dbd7-80fbdc8c0283"
      },
      "source": [
        "nn_acc=accuracy_score(y_test,pred_val)\n",
        "print(nn_acc)\n",
        "\n"
      ],
      "id": "fitting-valuable",
      "execution_count": 70,
      "outputs": [
        {
          "output_type": "stream",
          "text": [
            "0.8754695466964997\n"
          ],
          "name": "stdout"
        }
      ]
    },
    {
      "cell_type": "code",
      "metadata": {
        "id": "published-laugh",
        "colab": {
          "base_uri": "https://localhost:8080/"
        },
        "outputId": "ab0b9059-e16e-4a2e-941a-ad89e8c4636b"
      },
      "source": [
        "print(classification_report(y_test,pred_val))"
      ],
      "id": "published-laugh",
      "execution_count": 71,
      "outputs": [
        {
          "output_type": "stream",
          "text": [
            "              precision    recall  f1-score   support\n",
            "\n",
            "           0       0.88      0.86      0.87    169543\n",
            "           1       0.88      0.91      0.89    226499\n",
            "           2       0.86      0.89      0.87     28486\n",
            "           3       0.84      0.73      0.78      2192\n",
            "           4       0.79      0.56      0.65      7633\n",
            "           5       0.78      0.73      0.75     13947\n",
            "           6       0.92      0.86      0.89     16510\n",
            "\n",
            "    accuracy                           0.88    464810\n",
            "   macro avg       0.85      0.79      0.82    464810\n",
            "weighted avg       0.87      0.88      0.87    464810\n",
            "\n"
          ],
          "name": "stdout"
        }
      ]
    },
    {
      "cell_type": "markdown",
      "metadata": {
        "id": "suburban-intent"
      },
      "source": [
        "At the last we compare the accuracy of hyper parameter tuned Random Forest and NN by a barplot"
      ],
      "id": "suburban-intent"
    },
    {
      "cell_type": "code",
      "metadata": {
        "id": "hollywood-casino",
        "colab": {
          "base_uri": "https://localhost:8080/",
          "height": 521
        },
        "outputId": "091f7b74-dc4e-4cc0-f166-6742e210307d"
      },
      "source": [
        "pd.Series([nn_acc,0.9176910995890795],index=['Neural Network','Random Forest with 700 trees']).plot(kind='barh',color=['green','red'])"
      ],
      "id": "hollywood-casino",
      "execution_count": 72,
      "outputs": [
        {
          "output_type": "execute_result",
          "data": {
            "text/plain": [
              "<matplotlib.axes._subplots.AxesSubplot at 0x7f9b16dc7358>"
            ]
          },
          "metadata": {
            "tags": []
          },
          "execution_count": 72
        },
        {
          "output_type": "display_data",
          "data": {
            "image/png": "[encoded data removed]",
            "text/plain": [
              "<Figure size 842.4x595.44 with 1 Axes>"
            ]
          },
          "metadata": {
            "tags": []
          }
        }
      ]
    },
    {
      "cell_type": "markdown",
      "metadata": {
        "id": "color-healing"
      },
      "source": [
        "# Conclusion"
      ],
      "id": "color-healing"
    },
    {
      "cell_type": "markdown",
      "metadata": {
        "id": "finnish-aluminum"
      },
      "source": [
        "In this approach three types of classifcation algorithms are used, first was to pick the best classification model out of the three Machine Learning algorithms and the RandomForsest turned out to be the best algorithm with the default parameters, we evaluted every model using accuracy score and classification report , the accuracy turned out to be 91.61 % .Next in the seek to improve the accuracy of the RandomForsest that was fitted on Cross Validated data we used GridSearchCV to tune the hyperparameters and by trying to increase the number of trees from the default value we found out by fitting 700 tress the accuracy of Random Forest increses.In the last the KERAS which us the most easy to use and understand Deep Learning library is used to create the classfication model and found out that the accuracy is 88 % which is less than the random forest with tuned parameters, it is also an possibility that if we train the deep learning model on better hardware or GPU we may get a better accuracy."
      ],
      "id": "finnish-aluminum"
    },
    {
      "cell_type": "code",
      "metadata": {
        "id": "italian-dynamics"
      },
      "source": [
        ""
      ],
      "id": "italian-dynamics",
      "execution_count": 72,
      "outputs": []
    }
  ]
}